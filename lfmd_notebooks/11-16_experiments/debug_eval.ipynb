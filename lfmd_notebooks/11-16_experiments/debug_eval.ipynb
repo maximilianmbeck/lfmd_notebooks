{
 "cells": [
  {
   "cell_type": "code",
   "execution_count": 1,
   "metadata": {},
   "outputs": [],
   "source": [
    "%load_ext autoreload\n",
    "%autoreload 2\n",
    "import torch\n",
    "import numpy as np\n",
    "import pandas as pd\n",
    "from omegaconf import OmegaConf\n",
    "from pathlib import Path\n",
    "from pprint import pprint\n",
    "# plotting\n",
    "import matplotlib.pyplot as plt\n",
    "import matplotlib as mpl\n",
    "import seaborn as sns\n",
    "# mycode\n",
    "from repo import REPO\n",
    "from ml_utilities.output_loader.job_output import SweepResult, JobResult\n",
    "from ml_utilities.output_loader import create_job_output_loader\n",
    "from ml_utilities.output_loader.plot import plot_sweep_summary, plot_data_log_values\n",
    "from erank.mode_connectivity.instability_analysis import InstabilityAnalyzer"
   ]
  },
  {
   "attachments": {},
   "cell_type": "markdown",
   "metadata": {},
   "source": [
    "# DEBUG CIFAR 10 ResNet Pretraining\n",
    "\n",
    "With this notebook I start the pretraining runs on CIFAR10, which are then used for later finetuning for the stability analysis. \n",
    "I also start the finetuning runs here"
   ]
  },
  {
   "cell_type": "code",
   "execution_count": 2,
   "metadata": {},
   "outputs": [],
   "source": [
    "config_yaml = \"\"\"\n",
    "run_config:\n",
    "  exec_type: parallel\n",
    "  hostname: dragonfly\n",
    "  gpu_ids: [0,1]\n",
    "  runs_per_gpu: 2\n",
    "  wandb:\n",
    "    init:\n",
    "      tags:\n",
    "      - ${config.experiment_data.experiment_tag}_exps\n",
    "      - run_handler\n",
    "      notes: null\n",
    "      group: ${config.experiment_data.experiment_tag}\n",
    "      job_type: run_handler\n",
    "\n",
    "seeds: [11,17,31]\n",
    "\n",
    "sweep:\n",
    "  type: grid\n",
    "  axes: \n",
    "  - parameter: data.dataset_transforms.enable_transforms\n",
    "    vals: [True, False]\n",
    "  # - parameter: trainer.optimizer_scheduler.optimizer_kwargs.lr\n",
    "  #   vals: [0.1, 0.075, 0.05, 0.025]\n",
    "  # - parameter: trainer.optimizer_scheduler.optimizer_kwargs.weight_decay\n",
    "  #   vals: [0.0, 0.001, 0.005]\n",
    "  # - parameter: trainer.batch_size\n",
    "  #   vals: [64, 256, 512]\n",
    "    \n",
    "start_num: 1\n",
    "\n",
    "config:\n",
    "  experiment_data:\n",
    "    entity: jkuiml-fsl\n",
    "    project_name: tflearning\n",
    "    experiment_tag: '13.1'\n",
    "    experiment_type: startnum_${start_num}\n",
    "    experiment_name: cifar10-${config.experiment_data.experiment_tag}.${start_num}-resnet-B-pretrain\n",
    "    experiment_dir: null\n",
    "    experiment_notes: \n",
    "    job_name: null\n",
    "    seed: 0\n",
    "    hostname: null\n",
    "    gpu_id: 0\n",
    "  wandb:\n",
    "    init:\n",
    "      tags:\n",
    "      - ${config.experiment_data.experiment_tag}_exps\n",
    "      notes: ${config.experiment_data.experiment_notes}\n",
    "      group: ${config.experiment_data.experiment_tag}\n",
    "      job_type: ${config.experiment_data.experiment_type}\n",
    "    watch:\n",
    "      log: null\n",
    "      log_freq:\n",
    "\n",
    "  model:\n",
    "    model_cfg: resnet20-cifar10-B\n",
    "    # name: resnet\n",
    "    # model_kwargs:\n",
    "    #   in_channels: 3\n",
    "    #   act_fn: relu\n",
    "    #   residual_option: B\n",
    "    #   input_layer_config:\n",
    "    #     kernel_size: 3\n",
    "    #     out_channels: 16\n",
    "    #     bias: false\n",
    "    #     batch_norm: true\n",
    "    #     stride: 1\n",
    "    #     padding: 1\n",
    "    #   resnet_blocks_config:\n",
    "    #     - out_channels: 16\n",
    "    #       num_residual_blocks: 3\n",
    "    #     - out_channels: 32\n",
    "    #       num_residual_blocks: 3\n",
    "    #     - out_channels: 64\n",
    "    #       num_residual_blocks: 3\n",
    "    #   linear_output_units:\n",
    "    #     - 10\n",
    "    init_model: null\n",
    "\n",
    "  trainer:\n",
    "    training_setup: supervised\n",
    "    n_steps: 64e3\n",
    "    log_train_step_every: 1\n",
    "    log_additional_train_step_every_multiplier: 1\n",
    "    log_additional_logs: true\n",
    "    val_every: 500\n",
    "    save_every: 1000\n",
    "    early_stopping_patience: 64e3\n",
    "    batch_size: 128\n",
    "    optimizer_scheduler:\n",
    "      optimizer_name: SGD\n",
    "      optimizer_kwargs:\n",
    "        lr: 0.01 #0.1\n",
    "        momentum: 0.9\n",
    "        weight_decay: 0.0001\n",
    "      lr_scheduler_name: MultiStepLR\n",
    "      lr_scheduler_kwargs:\n",
    "        milestones: [32e3, 48e3]\n",
    "        gamma: 0.1\n",
    "\n",
    "    loss: crossentropy\n",
    "    metrics:\n",
    "    - Accuracy\n",
    "    num_workers: 4\n",
    "    verbose: false\n",
    "  data:\n",
    "    dataset: cifar10\n",
    "    dataset_kwargs:\n",
    "      data_root_path: /system/user/beck/pwbeck/data\n",
    "    dataset_split:\n",
    "      train_val_split: 0.9\n",
    "      # restrict_n_samples_train_task: 100\n",
    "    dataset_transforms:\n",
    "      image_transforms:\n",
    "      - RandomHorizontalFlip\n",
    "      - RandomCrop:\n",
    "          size: 32\n",
    "          padding: 4\n",
    "      tensor_transforms: \n",
    "      joint_tensor_transforms: \n",
    "      enable_transforms: True\n",
    "\"\"\"\n",
    "cfg = OmegaConf.create(config_yaml)"
   ]
  },
  {
   "cell_type": "code",
   "execution_count": 3,
   "metadata": {},
   "outputs": [],
   "source": [
    "# run_command = REPO.create_experiment(cfg, override=False)\n",
    "# print(run_command)"
   ]
  },
  {
   "cell_type": "markdown",
   "metadata": {},
   "source": [
    "### Sweep result"
   ]
  },
  {
   "cell_type": "code",
   "execution_count": 4,
   "metadata": {},
   "outputs": [
    {
     "name": "stdout",
     "output_type": "stream",
     "text": [
      "Exp. Tag(start_num): 13.1(1)\n",
      "Exp. Name: cifar10-13.1.1-resnet-B-pretrain\n",
      "Training setup: supervised\n",
      "Model name: resnet20-cifar10-B\n",
      "Dataset name: cifar10\n",
      "Sweep type: grid\n",
      "  data.dataset_transforms.enable_transforms: [True, False]\n",
      "Seeds: [11, 17, 31]\n",
      "Num. jobs: 6\n",
      "Config updated: 2023-01-12 16:36:01\n",
      "Sweep started:  2023-01-12 16:39:14\n",
      "\n"
     ]
    }
   ],
   "source": [
    "sweepr = REPO.get_output_loader(cfg)\n",
    "print(sweepr)"
   ]
  },
  {
   "cell_type": "code",
   "execution_count": 5,
   "metadata": {},
   "outputs": [
    {
     "name": "stderr",
     "output_type": "stream",
     "text": [
      "Collecting failed jobs: 100%|██████████| 6/6 [00:00<00:00, 61.91it/s]\n"
     ]
    },
    {
     "data": {
      "text/plain": [
       "([], {})"
      ]
     },
     "execution_count": 5,
     "metadata": {},
     "output_type": "execute_result"
    }
   ],
   "source": [
    "failed_jobs = sweepr.get_failed_jobs()\n",
    "failed_jobs # No failed jobs"
   ]
  },
  {
   "cell_type": "code",
   "execution_count": 6,
   "metadata": {},
   "outputs": [
    {
     "name": "stdout",
     "output_type": "stream",
     "text": [
      "{'_common_cols': ['epoch', 'train_step', 'log_step'],\n",
      " 'train': ['loss_CrossEntropyLoss',\n",
      "           'lr',\n",
      "           'time_last_train_epoch_in_s',\n",
      "           'Accuracy'],\n",
      " 'train_step': ['loss_CrossEntropyLoss', 'weight_norm', 'Accuracy', 'lr'],\n",
      " 'val': ['time_last_val_epoch_in_s', 'loss_CrossEntropyLoss', 'Accuracy']}\n"
     ]
    }
   ],
   "source": [
    "pprint(sweepr.available_log_columns)"
   ]
  },
  {
   "cell_type": "code",
   "execution_count": 7,
   "metadata": {},
   "outputs": [
    {
     "name": "stderr",
     "output_type": "stream",
     "text": [
      "Collecting summaries: 100%|██████████| 6/6 [00:00<00:00, 83.40it/s]\n"
     ]
    },
    {
     "data": {
      "text/html": [
       "<div>\n",
       "<style scoped>\n",
       "    .dataframe tbody tr th:only-of-type {\n",
       "        vertical-align: middle;\n",
       "    }\n",
       "\n",
       "    .dataframe tbody tr th {\n",
       "        vertical-align: top;\n",
       "    }\n",
       "\n",
       "    .dataframe thead th {\n",
       "        text-align: right;\n",
       "    }\n",
       "</style>\n",
       "<table border=\"1\" class=\"dataframe\">\n",
       "  <thead>\n",
       "    <tr style=\"text-align: right;\">\n",
       "      <th></th>\n",
       "      <th>best_step</th>\n",
       "      <th>best_val_score</th>\n",
       "      <th>data.dataset_transforms.enable_transforms</th>\n",
       "      <th>seed</th>\n",
       "    </tr>\n",
       "  </thead>\n",
       "  <tbody>\n",
       "    <tr>\n",
       "      <th>cifar10-13.1.1-resnet-B-pretrain--enable_transforms-0-seed-11--230112_172240</th>\n",
       "      <td>16000</td>\n",
       "      <td>0.7922</td>\n",
       "      <td>False</td>\n",
       "      <td>11</td>\n",
       "    </tr>\n",
       "    <tr>\n",
       "      <th>cifar10-13.1.1-resnet-B-pretrain--enable_transforms-0-seed-17--230112_163939</th>\n",
       "      <td>47500</td>\n",
       "      <td>0.7978</td>\n",
       "      <td>False</td>\n",
       "      <td>17</td>\n",
       "    </tr>\n",
       "    <tr>\n",
       "      <th>cifar10-13.1.1-resnet-B-pretrain--enable_transforms-0-seed-31--230112_163941</th>\n",
       "      <td>25500</td>\n",
       "      <td>0.7980</td>\n",
       "      <td>False</td>\n",
       "      <td>31</td>\n",
       "    </tr>\n",
       "    <tr>\n",
       "      <th>cifar10-13.1.1-resnet-B-pretrain--enable_transforms-1-seed-11--230112_163941</th>\n",
       "      <td>58500</td>\n",
       "      <td>0.8748</td>\n",
       "      <td>True</td>\n",
       "      <td>11</td>\n",
       "    </tr>\n",
       "    <tr>\n",
       "      <th>cifar10-13.1.1-resnet-B-pretrain--enable_transforms-1-seed-17--230112_172249</th>\n",
       "      <td>34500</td>\n",
       "      <td>0.8770</td>\n",
       "      <td>True</td>\n",
       "      <td>17</td>\n",
       "    </tr>\n",
       "    <tr>\n",
       "      <th>cifar10-13.1.1-resnet-B-pretrain--enable_transforms-1-seed-31--230112_163938</th>\n",
       "      <td>62000</td>\n",
       "      <td>0.8822</td>\n",
       "      <td>True</td>\n",
       "      <td>31</td>\n",
       "    </tr>\n",
       "  </tbody>\n",
       "</table>\n",
       "</div>"
      ],
      "text/plain": [
       "                                                    best_step  best_val_score  \\\n",
       "cifar10-13.1.1-resnet-B-pretrain--enable_transf...      16000          0.7922   \n",
       "cifar10-13.1.1-resnet-B-pretrain--enable_transf...      47500          0.7978   \n",
       "cifar10-13.1.1-resnet-B-pretrain--enable_transf...      25500          0.7980   \n",
       "cifar10-13.1.1-resnet-B-pretrain--enable_transf...      58500          0.8748   \n",
       "cifar10-13.1.1-resnet-B-pretrain--enable_transf...      34500          0.8770   \n",
       "cifar10-13.1.1-resnet-B-pretrain--enable_transf...      62000          0.8822   \n",
       "\n",
       "                                                    data.dataset_transforms.enable_transforms  \\\n",
       "cifar10-13.1.1-resnet-B-pretrain--enable_transf...                                      False   \n",
       "cifar10-13.1.1-resnet-B-pretrain--enable_transf...                                      False   \n",
       "cifar10-13.1.1-resnet-B-pretrain--enable_transf...                                      False   \n",
       "cifar10-13.1.1-resnet-B-pretrain--enable_transf...                                       True   \n",
       "cifar10-13.1.1-resnet-B-pretrain--enable_transf...                                       True   \n",
       "cifar10-13.1.1-resnet-B-pretrain--enable_transf...                                       True   \n",
       "\n",
       "                                                    seed  \n",
       "cifar10-13.1.1-resnet-B-pretrain--enable_transf...    11  \n",
       "cifar10-13.1.1-resnet-B-pretrain--enable_transf...    17  \n",
       "cifar10-13.1.1-resnet-B-pretrain--enable_transf...    31  \n",
       "cifar10-13.1.1-resnet-B-pretrain--enable_transf...    11  \n",
       "cifar10-13.1.1-resnet-B-pretrain--enable_transf...    17  \n",
       "cifar10-13.1.1-resnet-B-pretrain--enable_transf...    31  "
      ]
     },
     "execution_count": 7,
     "metadata": {},
     "output_type": "execute_result"
    }
   ],
   "source": [
    "sw_summary = sweepr.get_summary()\n",
    "sw_summary"
   ]
  },
  {
   "cell_type": "code",
   "execution_count": 8,
   "metadata": {},
   "outputs": [
    {
     "data": {
      "text/plain": [
       "JobResult(cifar10-13.1.1-resnet-B-pretrain--enable_transforms-1-seed-31--230112_163938)"
      ]
     },
     "execution_count": 8,
     "metadata": {},
     "output_type": "execute_result"
    }
   ],
   "source": [
    "run = sweepr.get_jobs(searchstr='-1-seed-31')[0]\n",
    "run"
   ]
  },
  {
   "cell_type": "code",
   "execution_count": 9,
   "metadata": {},
   "outputs": [
    {
     "data": {
      "text/html": [
       "<div>\n",
       "<style scoped>\n",
       "    .dataframe tbody tr th:only-of-type {\n",
       "        vertical-align: middle;\n",
       "    }\n",
       "\n",
       "    .dataframe tbody tr th {\n",
       "        vertical-align: top;\n",
       "    }\n",
       "\n",
       "    .dataframe thead th {\n",
       "        text-align: right;\n",
       "    }\n",
       "</style>\n",
       "<table border=\"1\" class=\"dataframe\">\n",
       "  <thead>\n",
       "    <tr style=\"text-align: right;\">\n",
       "      <th></th>\n",
       "      <th>log_step</th>\n",
       "      <th>epoch</th>\n",
       "      <th>train_step</th>\n",
       "      <th>loss_CrossEntropyLoss</th>\n",
       "      <th>Accuracy</th>\n",
       "      <th>time_last_val_epoch_in_s</th>\n",
       "    </tr>\n",
       "  </thead>\n",
       "  <tbody>\n",
       "    <tr>\n",
       "      <th>0</th>\n",
       "      <td>0</td>\n",
       "      <td>0</td>\n",
       "      <td>0</td>\n",
       "      <td>2.366093</td>\n",
       "      <td>0.0902</td>\n",
       "      <td>0.000000</td>\n",
       "    </tr>\n",
       "    <tr>\n",
       "      <th>1</th>\n",
       "      <td>501</td>\n",
       "      <td>2</td>\n",
       "      <td>500</td>\n",
       "      <td>1.409702</td>\n",
       "      <td>0.4854</td>\n",
       "      <td>2.906728</td>\n",
       "    </tr>\n",
       "    <tr>\n",
       "      <th>2</th>\n",
       "      <td>1003</td>\n",
       "      <td>3</td>\n",
       "      <td>1000</td>\n",
       "      <td>1.377557</td>\n",
       "      <td>0.5032</td>\n",
       "      <td>0.886624</td>\n",
       "    </tr>\n",
       "    <tr>\n",
       "      <th>3</th>\n",
       "      <td>1506</td>\n",
       "      <td>5</td>\n",
       "      <td>1500</td>\n",
       "      <td>1.260056</td>\n",
       "      <td>0.5514</td>\n",
       "      <td>0.880267</td>\n",
       "    </tr>\n",
       "    <tr>\n",
       "      <th>4</th>\n",
       "      <td>2008</td>\n",
       "      <td>6</td>\n",
       "      <td>2000</td>\n",
       "      <td>1.167949</td>\n",
       "      <td>0.5850</td>\n",
       "      <td>0.877970</td>\n",
       "    </tr>\n",
       "    <tr>\n",
       "      <th>...</th>\n",
       "      <td>...</td>\n",
       "      <td>...</td>\n",
       "      <td>...</td>\n",
       "      <td>...</td>\n",
       "      <td>...</td>\n",
       "      <td>...</td>\n",
       "    </tr>\n",
       "    <tr>\n",
       "      <th>124</th>\n",
       "      <td>62299</td>\n",
       "      <td>177</td>\n",
       "      <td>62000</td>\n",
       "      <td>0.437122</td>\n",
       "      <td>0.8822</td>\n",
       "      <td>0.526454</td>\n",
       "    </tr>\n",
       "    <tr>\n",
       "      <th>125</th>\n",
       "      <td>62801</td>\n",
       "      <td>178</td>\n",
       "      <td>62500</td>\n",
       "      <td>0.438947</td>\n",
       "      <td>0.8800</td>\n",
       "      <td>0.497475</td>\n",
       "    </tr>\n",
       "    <tr>\n",
       "      <th>126</th>\n",
       "      <td>63303</td>\n",
       "      <td>179</td>\n",
       "      <td>63000</td>\n",
       "      <td>0.446461</td>\n",
       "      <td>0.8808</td>\n",
       "      <td>0.511979</td>\n",
       "    </tr>\n",
       "    <tr>\n",
       "      <th>127</th>\n",
       "      <td>63806</td>\n",
       "      <td>181</td>\n",
       "      <td>63500</td>\n",
       "      <td>0.439624</td>\n",
       "      <td>0.8798</td>\n",
       "      <td>0.526959</td>\n",
       "    </tr>\n",
       "    <tr>\n",
       "      <th>128</th>\n",
       "      <td>64308</td>\n",
       "      <td>182</td>\n",
       "      <td>64000</td>\n",
       "      <td>0.434650</td>\n",
       "      <td>0.8814</td>\n",
       "      <td>0.509472</td>\n",
       "    </tr>\n",
       "  </tbody>\n",
       "</table>\n",
       "<p>129 rows × 6 columns</p>\n",
       "</div>"
      ],
      "text/plain": [
       "     log_step  epoch  train_step  loss_CrossEntropyLoss  Accuracy  \\\n",
       "0           0      0           0               2.366093    0.0902   \n",
       "1         501      2         500               1.409702    0.4854   \n",
       "2        1003      3        1000               1.377557    0.5032   \n",
       "3        1506      5        1500               1.260056    0.5514   \n",
       "4        2008      6        2000               1.167949    0.5850   \n",
       "..        ...    ...         ...                    ...       ...   \n",
       "124     62299    177       62000               0.437122    0.8822   \n",
       "125     62801    178       62500               0.438947    0.8800   \n",
       "126     63303    179       63000               0.446461    0.8808   \n",
       "127     63806    181       63500               0.439624    0.8798   \n",
       "128     64308    182       64000               0.434650    0.8814   \n",
       "\n",
       "     time_last_val_epoch_in_s  \n",
       "0                    0.000000  \n",
       "1                    2.906728  \n",
       "2                    0.886624  \n",
       "3                    0.880267  \n",
       "4                    0.877970  \n",
       "..                        ...  \n",
       "124                  0.526454  \n",
       "125                  0.497475  \n",
       "126                  0.511979  \n",
       "127                  0.526959  \n",
       "128                  0.509472  \n",
       "\n",
       "[129 rows x 6 columns]"
      ]
     },
     "execution_count": 9,
     "metadata": {},
     "output_type": "execute_result"
    }
   ],
   "source": [
    "run.get_data_log('val')"
   ]
  },
  {
   "cell_type": "code",
   "execution_count": 10,
   "metadata": {},
   "outputs": [
    {
     "data": {
      "text/plain": [
       "False"
      ]
     },
     "execution_count": 10,
     "metadata": {},
     "output_type": "execute_result"
    }
   ],
   "source": [
    "model = run.get_model_idx(1000)\n",
    "model.training"
   ]
  },
  {
   "cell_type": "code",
   "execution_count": 11,
   "metadata": {},
   "outputs": [],
   "source": [
    "from erank.data.datasetgenerator import DatasetGenerator\n",
    "from ml_utilities.torch_utils.metrics import TAccuracy\n",
    "from torch.utils import data\n",
    "import torchmetrics\n",
    "from ml_utilities.data_utils import show_images"
   ]
  },
  {
   "cell_type": "code",
   "execution_count": 12,
   "metadata": {},
   "outputs": [
    {
     "name": "stdout",
     "output_type": "stream",
     "text": [
      "Files already downloaded and verified\n"
     ]
    }
   ],
   "source": [
    "dsgen = DatasetGenerator(**cfg.config.data)\n",
    "dsgen.generate_dataset()"
   ]
  },
  {
   "cell_type": "code",
   "execution_count": 13,
   "metadata": {},
   "outputs": [
    {
     "name": "stderr",
     "output_type": "stream",
     "text": [
      "Clipping input data to the valid range for imshow with RGB data ([0..1] for floats or [0..255] for integers).\n",
      "Clipping input data to the valid range for imshow with RGB data ([0..1] for floats or [0..255] for integers).\n",
      "Clipping input data to the valid range for imshow with RGB data ([0..1] for floats or [0..255] for integers).\n",
      "Clipping input data to the valid range for imshow with RGB data ([0..1] for floats or [0..255] for integers).\n",
      "Clipping input data to the valid range for imshow with RGB data ([0..1] for floats or [0..255] for integers).\n",
      "Clipping input data to the valid range for imshow with RGB data ([0..1] for floats or [0..255] for integers).\n",
      "Clipping input data to the valid range for imshow with RGB data ([0..1] for floats or [0..255] for integers).\n",
      "Clipping input data to the valid range for imshow with RGB data ([0..1] for floats or [0..255] for integers).\n"
     ]
    },
    {
     "data": {
      "image/png": "[encoded data removed]",
      "text/plain": [
       "<Figure size 1000x500 with 8 Axes>"
      ]
     },
     "metadata": {},
     "output_type": "display_data"
    }
   ],
   "source": [
    "show_images(dsgen.val_split, 8, shuffle=False)"
   ]
  },
  {
   "cell_type": "code",
   "execution_count": 14,
   "metadata": {},
   "outputs": [],
   "source": [
    "val_loader = data.DataLoader(dsgen.val_split, batch_size=128)"
   ]
  },
  {
   "cell_type": "code",
   "execution_count": 15,
   "metadata": {},
   "outputs": [],
   "source": [
    "def eval_loop(model, dataloader, score_fn, device) -> float:\n",
    "    batch_scores = []\n",
    "    for batch_idx, (xs, ys) in enumerate(dataloader):\n",
    "        xs, ys = xs.to(device), ys.to(device)\n",
    "        with torch.no_grad():\n",
    "            y_pred = model(xs)\n",
    "            score = score_fn(y_pred, ys)\n",
    "            batch_scores.append(score)\n",
    "    return torch.tensor(batch_scores).mean().item()"
   ]
  },
  {
   "cell_type": "code",
   "execution_count": 16,
   "metadata": {},
   "outputs": [
    {
     "data": {
      "text/plain": [
       "0.500195324420929"
      ]
     },
     "execution_count": 16,
     "metadata": {},
     "output_type": "execute_result"
    }
   ],
   "source": [
    "eval_loop(model, val_loader, torchmetrics.Accuracy().to(torch.device('cuda:0')), torch.device('cuda:0'))"
   ]
  },
  {
   "cell_type": "code",
   "execution_count": 17,
   "metadata": {},
   "outputs": [
    {
     "data": {
      "text/plain": [
       "0.8724609613418579"
      ]
     },
     "execution_count": 17,
     "metadata": {},
     "output_type": "execute_result"
    }
   ],
   "source": [
    "0.871874988079071\n",
    "0.8724609613418579"
   ]
  }
 ],
 "metadata": {
  "kernelspec": {
   "display_name": "subspaces",
   "language": "python",
   "name": "python3"
  },
  "language_info": {
   "codemirror_mode": {
    "name": "ipython",
    "version": 3
   },
   "file_extension": ".py",
   "mimetype": "text/x-python",
   "name": "python",
   "nbconvert_exporter": "python",
   "pygments_lexer": "ipython3",
   "version": "3.10.4 (main, Mar 31 2022, 08:41:55) [GCC 7.5.0]"
  },
  "orig_nbformat": 4,
  "vscode": {
   "interpreter": {
    "hash": "ac019f01eb2a0970f066d5e193a84f30bb43215eeeface9d3d8db32241c79700"
   }
  }
 },
 "nbformat": 4,
 "nbformat_minor": 2
}
