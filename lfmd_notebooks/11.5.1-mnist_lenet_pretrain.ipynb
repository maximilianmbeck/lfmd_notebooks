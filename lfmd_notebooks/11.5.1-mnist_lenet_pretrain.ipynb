{
 "cells": [
  {
   "cell_type": "code",
   "execution_count": 1,
   "metadata": {},
   "outputs": [],
   "source": [
    "%load_ext autoreload\n",
    "%autoreload 2\n",
    "import torch\n",
    "import numpy as np\n",
    "import pandas as pd\n",
    "from omegaconf import OmegaConf\n",
    "from pathlib import Path\n",
    "from pprint import pprint\n",
    "# plotting\n",
    "import matplotlib.pyplot as plt\n",
    "import matplotlib as mpl\n",
    "import seaborn as sns\n",
    "# mycode\n",
    "from repo import REPO\n",
    "from ml_utilities.output_loader.job_output import SweepResult, JobResult\n",
    "from ml_utilities.output_loader import create_job_output_loader\n",
    "from ml_utilities.output_loader.plot import plot_sweep_summary, plot_data_log_values"
   ]
  },
  {
   "attachments": {},
   "cell_type": "markdown",
   "metadata": {},
   "source": [
    "# 11.5.1 MNIST lenet pretrain\n",
    "\n",
    "**RERUN 11.5.0**: Run with a new seed. \n",
    "\n",
    "Do mode connectivity experiments with different seeds."
   ]
  },
  {
   "cell_type": "markdown",
   "metadata": {},
   "source": [
    "## A. Experiment config"
   ]
  },
  {
   "cell_type": "markdown",
   "metadata": {},
   "source": [
    "### Config file"
   ]
  },
  {
   "cell_type": "code",
   "execution_count": 2,
   "metadata": {},
   "outputs": [],
   "source": [
    "config_yaml = \"\"\"\n",
    "run_config:\n",
    "  exec_type: parallel # sequential\n",
    "  hostname: raptor\n",
    "  gpu_ids: [0]\n",
    "  runs_per_gpu: 2\n",
    "\n",
    "  wandb: # wandb config for run_handler, if \"wandb: null\" then logging to wandb is disabled for run_handler\n",
    "    init:\n",
    "      tags:\n",
    "        - ${config.experiment_data.experiment_tag}_exps\n",
    "        - run_handler\n",
    "      notes: #\n",
    "      group: ${config.experiment_data.experiment_tag}\n",
    "      job_type: run_handler\n",
    "\n",
    "seeds: [1,2]\n",
    "\n",
    "sweep:\n",
    "  type: grid\n",
    "  axes:\n",
    "    - parameter: data.dataset_kwargs.rotation_angle\n",
    "      vals: [0.0] #linspace(0,180,360,endpoint=True)\n",
    "\n",
    "start_num: 1 # use this to count how often this config is run\n",
    "\n",
    "###\n",
    "config:\n",
    "  experiment_data:\n",
    "    entity: jkuiml-fsl\n",
    "    project_name: sparsity\n",
    "    experiment_tag: \"11.5\"\n",
    "    experiment_type: startnum_${start_num}\n",
    "    experiment_name: mnist-${config.experiment_data.experiment_tag}.${start_num}-lenet\n",
    "    experiment_dir: null\n",
    "    experiment_notes: Different random inits for mode connectivity analysis.\n",
    "    job_name: null\n",
    "    seed: 0\n",
    "    hostname: null # the server on which the run is run, will be filled by run_handler\n",
    "    gpu_id: 5\n",
    "\n",
    "  wandb:\n",
    "    init:\n",
    "      tags: # list(), used to tag wandblogger\n",
    "        - ${config.experiment_data.experiment_tag}_exps\n",
    "      notes: ${config.experiment_data.experiment_notes} # str, used to make notes to wandblogger\n",
    "      group: ${config.experiment_data.experiment_tag} # null\n",
    "      job_type: ${config.experiment_data.experiment_type} # examples: hypsearch, pretrain, eval, etc.\n",
    "\n",
    "    watch:\n",
    "      log: null #parameters #null #all\n",
    "      log_freq: 5000\n",
    "\n",
    "  model:\n",
    "    name: fc\n",
    "    model_kwargs:\n",
    "      input_size: 784\n",
    "      hidden_sizes:\n",
    "        - 300\n",
    "        - 100\n",
    "      output_size: 10\n",
    "      flatten_input: True\n",
    "      dropout: null\n",
    "      act_fn: relu\n",
    "\n",
    "  trainer:\n",
    "    training_setup: supervised\n",
    "    n_steps: 2000\n",
    "    log_train_step_every: 1\n",
    "    log_additional_train_step_every_multiplier: 1\n",
    "    log_additional_logs: True\n",
    "    val_every: 5\n",
    "    save_every: 5\n",
    "    early_stopping_patience: 200\n",
    "    batch_size: 128\n",
    "    optimizer_scheduler:\n",
    "      optimizer_name: adamw #sgd #adamw\n",
    "      optimizer_kwargs:\n",
    "        lr: 0.001\n",
    "        weight_decay: 0.0\n",
    "    init_model: null\n",
    "\n",
    "    loss: crossentropy\n",
    "\n",
    "    metrics:\n",
    "      - Accuracy\n",
    "    num_workers: 4\n",
    "    verbose: False\n",
    "\n",
    "  data:\n",
    "    dataset: rotatedvision\n",
    "    dataset_kwargs:\n",
    "      data_root_path: /system/user/beck/pwbeck/data\n",
    "      dataset: mnist\n",
    "      rotation_angle: 0.0\n",
    "    dataset_split:\n",
    "      train_val_split: 0.8\n",
    "\n",
    "\"\"\"\n",
    "cfg = OmegaConf.create(config_yaml)"
   ]
  },
  {
   "cell_type": "code",
   "execution_count": 3,
   "metadata": {},
   "outputs": [
    {
     "name": "stdout",
     "output_type": "stream",
     "text": [
      "python run_sweep.py --config-name mnist-11.5.1-lenet.yaml\n"
     ]
    }
   ],
   "source": [
    "run_command = REPO.create_experiment(cfg, override=False)\n",
    "print(run_command)"
   ]
  },
  {
   "cell_type": "markdown",
   "metadata": {},
   "source": [
    "### Sweep result"
   ]
  },
  {
   "cell_type": "code",
   "execution_count": null,
   "metadata": {},
   "outputs": [],
   "source": [
    "sweepr = REPO.get_output_loader(cfg)\n",
    "print(sweepr)"
   ]
  },
  {
   "cell_type": "code",
   "execution_count": null,
   "metadata": {},
   "outputs": [],
   "source": [
    "# failed_jobs = sweepr.get_failed_jobs()\n",
    "# failed_jobs # No failed jobs"
   ]
  },
  {
   "attachments": {},
   "cell_type": "markdown",
   "metadata": {},
   "source": [
    "## B. Analysis 1"
   ]
  },
  {
   "cell_type": "code",
   "execution_count": null,
   "metadata": {},
   "outputs": [],
   "source": [
    "pprint(sweepr.available_log_columns)"
   ]
  },
  {
   "cell_type": "code",
   "execution_count": null,
   "metadata": {},
   "outputs": [],
   "source": [
    "sw_summary = sweepr.get_summary()"
   ]
  },
  {
   "cell_type": "code",
   "execution_count": null,
   "metadata": {},
   "outputs": [],
   "source": [
    "sw_summary"
   ]
  }
 ],
 "metadata": {
  "kernelspec": {
   "display_name": "Python 3.10.4 ('subspaces')",
   "language": "python",
   "name": "python3"
  },
  "language_info": {
   "codemirror_mode": {
    "name": "ipython",
    "version": 3
   },
   "file_extension": ".py",
   "mimetype": "text/x-python",
   "name": "python",
   "nbconvert_exporter": "python",
   "pygments_lexer": "ipython3",
   "version": "3.10.4"
  },
  "orig_nbformat": 4,
  "vscode": {
   "interpreter": {
    "hash": "ac019f01eb2a0970f066d5e193a84f30bb43215eeeface9d3d8db32241c79700"
   }
  }
 },
 "nbformat": 4,
 "nbformat_minor": 2
}
