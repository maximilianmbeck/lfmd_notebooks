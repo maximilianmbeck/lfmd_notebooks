{
 "cells": [
  {
   "cell_type": "code",
   "execution_count": 1,
   "metadata": {},
   "outputs": [],
   "source": [
    "%load_ext autoreload\n",
    "%autoreload 2\n",
    "import torch\n",
    "import numpy as np\n",
    "import pandas as pd\n",
    "from omegaconf import OmegaConf\n",
    "from pathlib import Path\n",
    "from pprint import pprint\n",
    "from torch import nn\n",
    "from torchinfo import summary\n",
    "import torchvision\n",
    "# plotting\n",
    "import matplotlib.pyplot as plt\n",
    "import matplotlib as mpl\n",
    "import seaborn as sns\n",
    "# mycode\n",
    "from repo import REPO\n",
    "from ml_utilities.output_loader.job_output import SweepResult, JobResult\n",
    "from ml_utilities.output_loader import create_job_output_loader\n",
    "from ml_utilities.output_loader.plot import plot_sweep_summary, plot_data_log_values\n",
    "from ml_utilities.torch_models import get_model_config\n",
    "from ml_utilities.data_utils import show_images\n",
    "from ml_utilities.torch_models.resnet import Resnet"
   ]
  },
  {
   "attachments": {},
   "cell_type": "markdown",
   "metadata": {},
   "source": [
    "# 13.0.0 CIFAR10 Dataset & Model setup\n",
    "\n",
    "This notebook is a debug notebook to create the config for CIFAR10 experiments and to do an initial hyperparameter tuning.\n"
   ]
  },
  {
   "attachments": {},
   "cell_type": "markdown",
   "metadata": {},
   "source": [
    "## 0. Load CIFAR10 dataset"
   ]
  },
  {
   "cell_type": "code",
   "execution_count": 2,
   "metadata": {},
   "outputs": [],
   "source": [
    "data_dir = '/system/user/beck/pwbeck/data'"
   ]
  },
  {
   "cell_type": "code",
   "execution_count": 3,
   "metadata": {},
   "outputs": [],
   "source": [
    "data_cfg = \"\"\"\n",
    "data:\n",
    "  dataset: cifar10\n",
    "  dataset_kwargs:\n",
    "    data_root_path: /system/user/beck/pwbeck/data\n",
    "  dataset_split:\n",
    "    train_val_split: 0.9\n",
    "  dataset_transforms:\n",
    "    image_transforms:\n",
    "    - RandomHorizontalFlip\n",
    "    - RandomCrop:\n",
    "        size: 32\n",
    "        padding: 4\n",
    "    tensor_transforms: \n",
    "    joint_tensor_transforms: \n",
    "    enable_transforms: True\n",
    "\"\"\"\n",
    "data_cfg = OmegaConf.create(data_cfg)"
   ]
  },
  {
   "cell_type": "code",
   "execution_count": 4,
   "metadata": {},
   "outputs": [
    {
     "name": "stdout",
     "output_type": "stream",
     "text": [
      "Files already downloaded and verified\n"
     ]
    }
   ],
   "source": [
    "from erank.data.datasetgenerator import DatasetGenerator\n",
    "ds_generator = DatasetGenerator(**data_cfg.data)\n",
    "ds_generator.generate_dataset()"
   ]
  },
  {
   "cell_type": "code",
   "execution_count": 5,
   "metadata": {},
   "outputs": [
    {
     "data": {
      "text/plain": [
       "<torch.utils.data.dataset.Subset at 0x7f4d12271210>"
      ]
     },
     "execution_count": 5,
     "metadata": {},
     "output_type": "execute_result"
    }
   ],
   "source": [
    "ds_generator.train_split.dataset"
   ]
  },
  {
   "cell_type": "code",
   "execution_count": 6,
   "metadata": {},
   "outputs": [
    {
     "data": {
      "text/plain": [
       "(45000, 5000)"
      ]
     },
     "execution_count": 6,
     "metadata": {},
     "output_type": "execute_result"
    }
   ],
   "source": [
    "len(ds_generator.train_split), len(ds_generator.val_split)"
   ]
  },
  {
   "cell_type": "code",
   "execution_count": 7,
   "metadata": {},
   "outputs": [
    {
     "name": "stderr",
     "output_type": "stream",
     "text": [
      "Clipping input data to the valid range for imshow with RGB data ([0..1] for floats or [0..255] for integers).\n",
      "Clipping input data to the valid range for imshow with RGB data ([0..1] for floats or [0..255] for integers).\n",
      "Clipping input data to the valid range for imshow with RGB data ([0..1] for floats or [0..255] for integers).\n",
      "Clipping input data to the valid range for imshow with RGB data ([0..1] for floats or [0..255] for integers).\n",
      "Clipping input data to the valid range for imshow with RGB data ([0..1] for floats or [0..255] for integers).\n",
      "Clipping input data to the valid range for imshow with RGB data ([0..1] for floats or [0..255] for integers).\n",
      "Clipping input data to the valid range for imshow with RGB data ([0..1] for floats or [0..255] for integers).\n",
      "Clipping input data to the valid range for imshow with RGB data ([0..1] for floats or [0..255] for integers).\n"
     ]
    },
    {
     "data": {
      "image/png": "[encoded data removed]",
      "text/plain": [
       "<Figure size 1000x500 with 8 Axes>"
      ]
     },
     "metadata": {},
     "output_type": "display_data"
    }
   ],
   "source": [
    "show_images(ds_generator.train_split, 10)"
   ]
  },
  {
   "attachments": {},
   "cell_type": "markdown",
   "metadata": {},
   "source": [
    "## 1. Load ResNet model, Compare Residual option A and B"
   ]
  },
  {
   "cell_type": "code",
   "execution_count": 9,
   "metadata": {},
   "outputs": [
    {
     "name": "stdout",
     "output_type": "stream",
     "text": [
      "name: resnet\n",
      "model_kwargs:\n",
      "  in_channels: 3\n",
      "  act_fn: relu\n",
      "  residual_option: A\n",
      "  input_layer_config:\n",
      "    kernel_size: 3\n",
      "    out_channels: 16\n",
      "    bias: false\n",
      "    batch_norm: true\n",
      "    stride: 1\n",
      "    padding: 1\n",
      "  resnet_blocks_config:\n",
      "  - out_channels: 16\n",
      "    num_residual_blocks: 3\n",
      "  - out_channels: 32\n",
      "    num_residual_blocks: 3\n",
      "  - out_channels: 64\n",
      "    num_residual_blocks: 3\n",
      "  linear_output_units:\n",
      "  - 10\n",
      "  model_initializer: kaiming_normal\n",
      "  batchnorm_initializer: uniform\n",
      "\n"
     ]
    }
   ],
   "source": [
    "# Option A: #params = 269,722\n",
    "model_cfg = get_model_config('resnet20-cifar10-A')\n",
    "print(OmegaConf.to_yaml(model_cfg))"
   ]
  },
  {
   "cell_type": "code",
   "execution_count": 10,
   "metadata": {},
   "outputs": [
    {
     "data": {
      "text/plain": [
       "===============================================================================================\n",
       "Layer (type:depth-idx)                        Output Shape              Param #\n",
       "===============================================================================================\n",
       "Resnet                                        [128, 10]                 --\n",
       "├─Sequential: 1-1                             [128, 10]                 --\n",
       "│    └─Sequential: 2-1                        [128, 16, 32, 32]         --\n",
       "│    │    └─Conv2d: 3-1                       [128, 16, 32, 32]         432\n",
       "│    │    └─BatchNorm2d: 3-2                  [128, 16, 32, 32]         32\n",
       "│    │    └─ReLU: 3-3                         [128, 16, 32, 32]         --\n",
       "│    └─Sequential: 2-2                        [128, 64, 8, 8]           --\n",
       "│    │    └─Sequential: 3-4                   [128, 16, 32, 32]         --\n",
       "│    │    │    └─_ResidualBlock: 4-1          [128, 16, 32, 32]         4,672\n",
       "│    │    │    └─_ResidualBlock: 4-2          [128, 16, 32, 32]         4,672\n",
       "│    │    │    └─_ResidualBlock: 4-3          [128, 16, 32, 32]         4,672\n",
       "│    │    └─Sequential: 3-5                   [128, 32, 16, 16]         --\n",
       "│    │    │    └─_ResidualBlock: 4-4          [128, 32, 16, 16]         13,952\n",
       "│    │    │    └─_ResidualBlock: 4-5          [128, 32, 16, 16]         18,560\n",
       "│    │    │    └─_ResidualBlock: 4-6          [128, 32, 16, 16]         18,560\n",
       "│    │    └─Sequential: 3-6                   [128, 64, 8, 8]           --\n",
       "│    │    │    └─_ResidualBlock: 4-7          [128, 64, 8, 8]           55,552\n",
       "│    │    │    └─_ResidualBlock: 4-8          [128, 64, 8, 8]           73,984\n",
       "│    │    │    └─_ResidualBlock: 4-9          [128, 64, 8, 8]           73,984\n",
       "│    └─AdaptiveAvgPool2d: 2-3                 [128, 64, 1, 1]           --\n",
       "│    └─Sequential: 2-4                        [128, 10]                 --\n",
       "│    │    └─Flatten: 3-7                      [128, 64]                 --\n",
       "│    │    └─Linear: 3-8                       [128, 10]                 650\n",
       "===============================================================================================\n",
       "Total params: 269,722\n",
       "Trainable params: 269,722\n",
       "Non-trainable params: 0\n",
       "Total mult-adds (G): 5.19\n",
       "===============================================================================================\n",
       "Input size (MB): 1.57\n",
       "Forward/backward pass size (MB): 385.89\n",
       "Params size (MB): 1.08\n",
       "Estimated Total Size (MB): 388.54\n",
       "==============================================================================================="
      ]
     },
     "execution_count": 10,
     "metadata": {},
     "output_type": "execute_result"
    }
   ],
   "source": [
    "resnet_model = Resnet(**model_cfg.model_kwargs)\n",
    "summary(resnet_model, input_data=torch.randn(128, 3, 32, 32), depth=4)"
   ]
  },
  {
   "cell_type": "code",
   "execution_count": 11,
   "metadata": {},
   "outputs": [
    {
     "data": {
      "text/plain": [
       "====================================================================================================\n",
       "Layer (type:depth-idx)                             Output Shape              Param #\n",
       "====================================================================================================\n",
       "Resnet                                             [128, 10]                 --\n",
       "├─Sequential: 1-1                                  [128, 10]                 --\n",
       "│    └─Sequential: 2-1                             [128, 16, 32, 32]         --\n",
       "│    │    └─Conv2d: 3-1                            [128, 16, 32, 32]         432\n",
       "│    │    └─BatchNorm2d: 3-2                       [128, 16, 32, 32]         32\n",
       "│    │    └─ReLU: 3-3                              [128, 16, 32, 32]         --\n",
       "│    └─Sequential: 2-2                             [128, 64, 8, 8]           --\n",
       "│    │    └─Sequential: 3-4                        [128, 16, 32, 32]         --\n",
       "│    │    │    └─_ResidualBlock: 4-1               [128, 16, 32, 32]         4,672\n",
       "│    │    │    └─_ResidualBlock: 4-2               [128, 16, 32, 32]         4,672\n",
       "│    │    │    └─_ResidualBlock: 4-3               [128, 16, 32, 32]         4,672\n",
       "│    │    └─Sequential: 3-5                        [128, 32, 16, 16]         --\n",
       "│    │    │    └─_ResidualBlock: 4-4               [128, 32, 16, 16]         14,528\n",
       "│    │    │    └─_ResidualBlock: 4-5               [128, 32, 16, 16]         18,560\n",
       "│    │    │    └─_ResidualBlock: 4-6               [128, 32, 16, 16]         18,560\n",
       "│    │    └─Sequential: 3-6                        [128, 64, 8, 8]           --\n",
       "│    │    │    └─_ResidualBlock: 4-7               [128, 64, 8, 8]           57,728\n",
       "│    │    │    └─_ResidualBlock: 4-8               [128, 64, 8, 8]           73,984\n",
       "│    │    │    └─_ResidualBlock: 4-9               [128, 64, 8, 8]           73,984\n",
       "│    └─AdaptiveAvgPool2d: 2-3                      [128, 64, 1, 1]           --\n",
       "│    └─Sequential: 2-4                             [128, 10]                 --\n",
       "│    │    └─Flatten: 3-7                           [128, 64]                 --\n",
       "│    │    └─Linear: 3-8                            [128, 10]                 650\n",
       "====================================================================================================\n",
       "Total params: 272,474\n",
       "Trainable params: 272,474\n",
       "Non-trainable params: 0\n",
       "Total mult-adds (G): 5.22\n",
       "====================================================================================================\n",
       "Input size (MB): 1.57\n",
       "Forward/backward pass size (MB): 411.05\n",
       "Params size (MB): 1.09\n",
       "Estimated Total Size (MB): 413.71\n",
       "===================================================================================================="
      ]
     },
     "execution_count": 11,
     "metadata": {},
     "output_type": "execute_result"
    }
   ],
   "source": [
    "# Option B: #params = 272,474\n",
    "model_cfg = \"\"\"\n",
    "# model_cfg: resnet20-cifar10\n",
    "name: resnet\n",
    "model_kwargs:\n",
    "  in_channels: 3\n",
    "  act_fn: relu\n",
    "  residual_option: B\n",
    "  input_layer_config:\n",
    "    kernel_size: 3\n",
    "    out_channels: 16\n",
    "    bias: false\n",
    "    batch_norm: true\n",
    "    stride: 1\n",
    "    padding: 1\n",
    "  resnet_blocks_config:\n",
    "    - out_channels: 16\n",
    "      num_residual_blocks: 3\n",
    "    - out_channels: 32\n",
    "      num_residual_blocks: 3\n",
    "    - out_channels: 64\n",
    "      num_residual_blocks: 3\n",
    "  linear_output_units:\n",
    "    - 10\n",
    "\"\"\"\n",
    "model_cfg = OmegaConf.create(model_cfg)\n",
    "resnet_model = Resnet(**model_cfg.model_kwargs)\n",
    "summary(resnet_model, input_data=torch.randn(128, 3, 32, 32), depth=4)"
   ]
  },
  {
   "cell_type": "code",
   "execution_count": null,
   "metadata": {},
   "outputs": [],
   "source": []
  },
  {
   "attachments": {},
   "cell_type": "markdown",
   "metadata": {},
   "source": [
    "# 13.0 CIFAR10 Standard Training influence Augmentation"
   ]
  },
  {
   "attachments": {},
   "cell_type": "markdown",
   "metadata": {},
   "source": [
    "## A. Experiment config"
   ]
  },
  {
   "cell_type": "code",
   "execution_count": 11,
   "metadata": {},
   "outputs": [],
   "source": [
    "config_yaml = \"\"\"\n",
    "run_config:\n",
    "  exec_type: parallel\n",
    "  hostname: dragonfly\n",
    "  gpu_ids: [0,1]\n",
    "  runs_per_gpu: 2\n",
    "  wandb:\n",
    "    init:\n",
    "      tags:\n",
    "      - ${config.experiment_data.experiment_tag}_exps\n",
    "      - run_handler\n",
    "      notes: null\n",
    "      group: ${config.experiment_data.experiment_tag}\n",
    "      job_type: run_handler\n",
    "\n",
    "seeds: [42]\n",
    "\n",
    "sweep:\n",
    "  type: grid\n",
    "  axes: \n",
    "  - parameter: data.dataset_transforms.enable_transforms\n",
    "    vals: [True] #[True, False]\n",
    "  - parameter: trainer.optimizer_scheduler.optimizer_kwargs.lr\n",
    "    vals: [0.1, 0.075, 0.05, 0.025]\n",
    "  # - parameter: trainer.optimizer_scheduler.optimizer_kwargs.weight_decay\n",
    "  #   vals: [0.0, 0.001, 0.005]\n",
    "  # - parameter: trainer.batch_size\n",
    "  #   vals: [64, 256, 512]\n",
    "    \n",
    "start_num: 3\n",
    "\n",
    "config:\n",
    "  experiment_data:\n",
    "    entity: jkuiml-fsl\n",
    "    project_name: tflearning\n",
    "    experiment_tag: '13.0'\n",
    "    experiment_type: startnum_${start_num}\n",
    "    experiment_name: cifar10-${config.experiment_data.experiment_tag}.${start_num}-resnet-B\n",
    "    experiment_dir: null\n",
    "    experiment_notes: \n",
    "    job_name: null\n",
    "    seed: 0\n",
    "    hostname: null\n",
    "    gpu_id: 0\n",
    "  wandb:\n",
    "    init:\n",
    "      tags:\n",
    "      - ${config.experiment_data.experiment_tag}_exps\n",
    "      notes: ${config.experiment_data.experiment_notes}\n",
    "      group: ${config.experiment_data.experiment_tag}\n",
    "      job_type: ${config.experiment_data.experiment_type}\n",
    "    watch:\n",
    "      log: null\n",
    "      log_freq:\n",
    "\n",
    "  model:\n",
    "    model_cfg: resnet20-cifar10-B\n",
    "    # name: resnet\n",
    "    # model_kwargs:\n",
    "    #   in_channels: 3\n",
    "    #   act_fn: relu\n",
    "    #   residual_option: B\n",
    "    #   input_layer_config:\n",
    "    #     kernel_size: 3\n",
    "    #     out_channels: 16\n",
    "    #     bias: false\n",
    "    #     batch_norm: true\n",
    "    #     stride: 1\n",
    "    #     padding: 1\n",
    "    #   resnet_blocks_config:\n",
    "    #     - out_channels: 16\n",
    "    #       num_residual_blocks: 3\n",
    "    #     - out_channels: 32\n",
    "    #       num_residual_blocks: 3\n",
    "    #     - out_channels: 64\n",
    "    #       num_residual_blocks: 3\n",
    "    #   linear_output_units:\n",
    "    #     - 10\n",
    "    init_model: null\n",
    "\n",
    "  trainer:\n",
    "    training_setup: supervised\n",
    "    n_steps: 64e3\n",
    "    log_train_step_every: 1\n",
    "    log_additional_train_step_every_multiplier: 1\n",
    "    log_additional_logs: true\n",
    "    val_every: 500\n",
    "    save_every: 10000\n",
    "    early_stopping_patience: 64e3\n",
    "    batch_size: 128\n",
    "    optimizer_scheduler:\n",
    "      optimizer_name: SGD\n",
    "      optimizer_kwargs:\n",
    "        lr: 0.01 #0.1\n",
    "        momentum: 0.9\n",
    "        weight_decay: 0.0001\n",
    "      lr_scheduler_name: MultiStepLR\n",
    "      lr_scheduler_kwargs:\n",
    "        milestones: [32e3, 48e3]\n",
    "        gamma: 0.1\n",
    "\n",
    "    loss: crossentropy\n",
    "    metrics:\n",
    "    - Accuracy\n",
    "    num_workers: 4\n",
    "    verbose: false\n",
    "  data:\n",
    "    dataset: cifar10\n",
    "    dataset_kwargs:\n",
    "      data_root_path: /system/user/beck/pwbeck/data\n",
    "    dataset_split:\n",
    "      train_val_split: 0.9\n",
    "      # restrict_n_samples_train_task: 100\n",
    "    dataset_transforms:\n",
    "      image_transforms:\n",
    "      - RandomHorizontalFlip\n",
    "      - RandomCrop:\n",
    "          size: 32\n",
    "          padding: 4\n",
    "      tensor_transforms: \n",
    "      joint_tensor_transforms: \n",
    "      enable_transforms: True\n",
    "\"\"\"\n",
    "cfg = OmegaConf.create(config_yaml)"
   ]
  },
  {
   "cell_type": "code",
   "execution_count": 12,
   "metadata": {},
   "outputs": [
    {
     "name": "stdout",
     "output_type": "stream",
     "text": [
      "python run_sweep.py --config-name cifar10-13.0.3-resnet-B.yaml\n"
     ]
    }
   ],
   "source": [
    "run_command = REPO.create_experiment(cfg, override=True)\n",
    "print(run_command)"
   ]
  },
  {
   "cell_type": "markdown",
   "metadata": {},
   "source": [
    "### Sweep result"
   ]
  },
  {
   "cell_type": "code",
   "execution_count": null,
   "metadata": {},
   "outputs": [],
   "source": [
    "sweepr = REPO.get_output_loader(cfg)\n",
    "print(sweepr)"
   ]
  },
  {
   "cell_type": "code",
   "execution_count": null,
   "metadata": {},
   "outputs": [],
   "source": [
    "# failed_jobs = sweepr.get_failed_jobs()\n",
    "# failed_jobs # No failed jobs"
   ]
  },
  {
   "attachments": {},
   "cell_type": "markdown",
   "metadata": {},
   "source": [
    "## B. Analysis 1"
   ]
  },
  {
   "cell_type": "code",
   "execution_count": null,
   "metadata": {},
   "outputs": [],
   "source": [
    "pprint(sweepr.available_log_columns)"
   ]
  },
  {
   "cell_type": "code",
   "execution_count": null,
   "metadata": {},
   "outputs": [],
   "source": [
    "sw_summary = sweepr.get_summary()"
   ]
  },
  {
   "cell_type": "code",
   "execution_count": null,
   "metadata": {},
   "outputs": [],
   "source": [
    "sw_summary"
   ]
  },
  {
   "cell_type": "code",
   "execution_count": null,
   "metadata": {},
   "outputs": [],
   "source": []
  }
 ],
 "metadata": {
  "kernelspec": {
   "display_name": "Python 3.10.4 ('subspaces')",
   "language": "python",
   "name": "python3"
  },
  "language_info": {
   "codemirror_mode": {
    "name": "ipython",
    "version": 3
   },
   "file_extension": ".py",
   "mimetype": "text/x-python",
   "name": "python",
   "nbconvert_exporter": "python",
   "pygments_lexer": "ipython3",
   "version": "3.10.4"
  },
  "orig_nbformat": 4,
  "vscode": {
   "interpreter": {
    "hash": "ac019f01eb2a0970f066d5e193a84f30bb43215eeeface9d3d8db32241c79700"
   }
  }
 },
 "nbformat": 4,
 "nbformat_minor": 2
}
