{
 "cells": [
  {
   "cell_type": "code",
   "execution_count": 2,
   "metadata": {},
   "outputs": [],
   "source": [
    "%load_ext autoreload\n",
    "%autoreload 2\n",
    "import torch\n",
    "import numpy as np\n",
    "import pandas as pd\n",
    "from omegaconf import OmegaConf\n",
    "from pathlib import Path\n",
    "from pprint import pprint\n",
    "# plotting\n",
    "import matplotlib.pyplot as plt\n",
    "import matplotlib as mpl\n",
    "import seaborn as sns\n",
    "# mycode\n",
    "from repo import REPO\n",
    "from ml_utilities.output_loader.result_loader import SweepResult, JobResult\n",
    "from ml_utilities.output_loader import create_job_output_loader\n",
    "from ml_utilities.output_loader.plot import plot_sweep_summary, plot_data_log_values\n",
    "from ml_utilities.data.data_utils import show_images\n",
    "from ml_utilities.data.datasetgenerator import DatasetGenerator\n",
    "from ml_utilities.torch_models.resnet import Resnet"
   ]
  },
  {
   "attachments": {},
   "cell_type": "markdown",
   "metadata": {},
   "source": [
    "# 15.10 Resnet on MNIST\n",
    "\n",
    "In this notebook I want to train a resnet on MNIST. \n",
    "Two options:\n",
    "- Resize MNIST digits to 32x32\n",
    "- Adapt resnet architecture to 28x28 <TRY THIS!"
   ]
  },
  {
   "attachments": {},
   "cell_type": "markdown",
   "metadata": {},
   "source": [
    "## Setup Model and Data"
   ]
  },
  {
   "cell_type": "code",
   "execution_count": 3,
   "metadata": {},
   "outputs": [],
   "source": [
    "data_cfg = \"\"\"\n",
    "data:\n",
    "  dataset: mnist\n",
    "  dataset_kwargs:\n",
    "    data_root_path: /system/user/beck/pwbeck/data\n",
    "  dataset_split:\n",
    "    train_val_split: 0.9\n",
    "    # restrict_n_samples_train_task: 10000\n",
    "  # train_split_transforms:\n",
    "    # image_transforms:\n",
    "    # - RandomHorizontalFlip\n",
    "    # - RandomCrop:\n",
    "    #     size: 32\n",
    "    #     padding: 4\n",
    "    # tensor_transforms: \n",
    "    # joint_tensor_transforms: \n",
    "    # enable_transforms: True\n",
    "\"\"\"\n",
    "data_cfg = OmegaConf.create(data_cfg)"
   ]
  },
  {
   "cell_type": "code",
   "execution_count": 4,
   "metadata": {},
   "outputs": [],
   "source": [
    "datagen = DatasetGenerator(**data_cfg.data)\n",
    "datagen.generate_dataset()"
   ]
  },
  {
   "cell_type": "code",
   "execution_count": 5,
   "metadata": {},
   "outputs": [
    {
     "data": {
      "image/png": "[encoded data removed]",
      "text/plain": [
       "<Figure size 1000x500 with 8 Axes>"
      ]
     },
     "metadata": {},
     "output_type": "display_data"
    }
   ],
   "source": [
    "show_images(datagen.train_split, num_images=10, shuffle=False)"
   ]
  },
  {
   "cell_type": "code",
   "execution_count": 6,
   "metadata": {},
   "outputs": [
    {
     "data": {
      "text/plain": [
       "torch.Size([1, 28, 28])"
      ]
     },
     "execution_count": 6,
     "metadata": {},
     "output_type": "execute_result"
    }
   ],
   "source": [
    "datagen.train_split[0][0].shape"
   ]
  },
  {
   "cell_type": "code",
   "execution_count": 7,
   "metadata": {},
   "outputs": [],
   "source": [
    "model_cfg = \"\"\"\n",
    "model:\n",
    "  name: resnet\n",
    "  model_kwargs:\n",
    "    in_channels: 1\n",
    "    act_fn: relu\n",
    "    residual_option: B\n",
    "    input_layer_config:\n",
    "      kernel_size: 3\n",
    "      out_channels: 16\n",
    "      bias: false\n",
    "      batch_norm: true\n",
    "      stride: 1\n",
    "      padding: 1\n",
    "    resnet_blocks_config:\n",
    "      - out_channels: 16\n",
    "        num_residual_blocks: 3\n",
    "      - out_channels: 32\n",
    "        num_residual_blocks: 3\n",
    "      - out_channels: 64\n",
    "        num_residual_blocks: 3\n",
    "    linear_output_units:\n",
    "      - 10\n",
    "    model_initializer: kaiming_normal\n",
    "    batchnorm_initializer: uniform\n",
    "\"\"\"\n",
    "model_cfg = OmegaConf.create(model_cfg)"
   ]
  },
  {
   "cell_type": "code",
   "execution_count": 8,
   "metadata": {},
   "outputs": [],
   "source": [
    "model = Resnet(**model_cfg.model.model_kwargs)"
   ]
  },
  {
   "cell_type": "code",
   "execution_count": 9,
   "metadata": {},
   "outputs": [],
   "source": [
    "from torchinfo import summary"
   ]
  },
  {
   "cell_type": "code",
   "execution_count": 10,
   "metadata": {},
   "outputs": [
    {
     "data": {
      "text/plain": [
       "====================================================================================================\n",
       "Layer (type:depth-idx)                             Output Shape              Param #\n",
       "====================================================================================================\n",
       "Resnet                                             [1, 10]                   --\n",
       "├─Sequential: 1-1                                  [1, 10]                   --\n",
       "│    └─Sequential: 2-1                             [1, 16, 28, 28]           --\n",
       "│    │    └─Conv2d: 3-1                            [1, 16, 28, 28]           144\n",
       "│    │    └─BatchNorm2d: 3-2                       [1, 16, 28, 28]           32\n",
       "│    │    └─ReLU: 3-3                              [1, 16, 28, 28]           --\n",
       "│    └─Sequential: 2-2                             [1, 64, 7, 7]             --\n",
       "│    │    └─Sequential: 3-4                        [1, 16, 28, 28]           14,016\n",
       "│    │    └─Sequential: 3-5                        [1, 32, 14, 14]           51,648\n",
       "│    │    └─Sequential: 3-6                        [1, 64, 7, 7]             205,696\n",
       "│    └─AdaptiveAvgPool2d: 2-3                      [1, 64, 1, 1]             --\n",
       "│    └─Sequential: 2-4                             [1, 10]                   --\n",
       "│    │    └─Flatten: 3-7                           [1, 64]                   --\n",
       "│    │    └─Linear: 3-8                            [1, 10]                   650\n",
       "====================================================================================================\n",
       "Total params: 272,186\n",
       "Trainable params: 272,186\n",
       "Non-trainable params: 0\n",
       "Total mult-adds (M): 31.02\n",
       "====================================================================================================\n",
       "Input size (MB): 0.00\n",
       "Forward/backward pass size (MB): 2.46\n",
       "Params size (MB): 1.09\n",
       "Estimated Total Size (MB): 3.55\n",
       "===================================================================================================="
      ]
     },
     "execution_count": 10,
     "metadata": {},
     "output_type": "execute_result"
    }
   ],
   "source": [
    "summary(model, input_size=(1, 1, 28, 28))"
   ]
  },
  {
   "cell_type": "code",
   "execution_count": null,
   "metadata": {},
   "outputs": [],
   "source": []
  },
  {
   "cell_type": "markdown",
   "metadata": {},
   "source": [
    "## A. Experiment config"
   ]
  },
  {
   "cell_type": "markdown",
   "metadata": {},
   "source": [
    "### Config file"
   ]
  },
  {
   "cell_type": "code",
   "execution_count": 23,
   "metadata": {},
   "outputs": [],
   "source": [
    "config_yaml = \"\"\"\n",
    "run_config:\n",
    "  exec_type: parallel\n",
    "  hostname: dragonfly\n",
    "  gpu_ids: [1]\n",
    "  runs_per_gpu: 1\n",
    "  # wandb:\n",
    "  #   init:\n",
    "  #     tags:\n",
    "  #     - ${config.experiment_data.experiment_tag}_exps\n",
    "  #     - run_handler\n",
    "  #     notes: null\n",
    "  #     group: ${config.experiment_data.experiment_tag}\n",
    "  #     job_type: run_handler\n",
    "\n",
    "seeds: [0]\n",
    "\n",
    "# sweep:\n",
    "#   type: grid\n",
    "#   axes: \n",
    "#   - parameter: data.dataset_transforms.enable_transforms\n",
    "#     vals: [True, False]\n",
    "    \n",
    "start_num: 2\n",
    "\n",
    "config:\n",
    "  experiment_data:\n",
    "    entity: jkuiml-fsl\n",
    "    project_name: tflearning\n",
    "    experiment_tag: '15.10'\n",
    "    experiment_type: startnum_${start_num}\n",
    "    experiment_name: mnist-${config.experiment_data.experiment_tag}.${start_num}-resnet-hypsearch-scheduler-short\n",
    "    experiment_dir: null\n",
    "    experiment_notes: \n",
    "    job_name: null\n",
    "    seed: 0\n",
    "    hostname: null\n",
    "    gpu_id: 1\n",
    "  wandb:\n",
    "    init:\n",
    "      tags:\n",
    "      - ${config.experiment_data.experiment_tag}_exps\n",
    "      notes: ${config.experiment_data.experiment_notes}\n",
    "      group: ${config.experiment_data.experiment_tag}\n",
    "      job_type: ${config.experiment_data.experiment_type}\n",
    "    watch:\n",
    "      log: null\n",
    "      log_freq:\n",
    "\n",
    "  model:\n",
    "    model_cfg: resnet20-mnist-B\n",
    "\n",
    "  trainer:\n",
    "    training_setup: supervised\n",
    "    n_steps: 24e3\n",
    "    log_train_step_every: 1\n",
    "    log_additional_logs: true\n",
    "    val_every: 500\n",
    "    save_every: 64000\n",
    "    early_stopping_patience: 64e3\n",
    "    batch_size: 128\n",
    "    optimizer_scheduler:\n",
    "      optimizer_name: SGD\n",
    "      optimizer_kwargs:\n",
    "        lr: 0.1\n",
    "        momentum: 0.9\n",
    "        weight_decay: 0.0001\n",
    "      lr_scheduler_name: MultiStepLR\n",
    "      lr_scheduler_kwargs:\n",
    "        milestones: [12e3, 18e3]\n",
    "        gamma: 0.1\n",
    "    loss: crossentropy\n",
    "    metrics:\n",
    "    - Accuracy\n",
    "    num_workers: 4\n",
    "\n",
    "  data:\n",
    "    dataset: mnist\n",
    "    dataset_kwargs:\n",
    "      data_root_path: /system/user/beck/pwbeck/data\n",
    "    dataset_split:\n",
    "      train_val_split: 0.9\n",
    "\"\"\"\n",
    "cfg = OmegaConf.create(config_yaml)"
   ]
  },
  {
   "cell_type": "code",
   "execution_count": 24,
   "metadata": {},
   "outputs": [
    {
     "name": "stdout",
     "output_type": "stream",
     "text": [
      "python run.py --config-name mnist-15.10.2-resnet-hypsearch-scheduler-short.yaml\n"
     ]
    }
   ],
   "source": [
    "run_command = REPO.create_experiment(cfg, override=True)\n",
    "print(run_command)"
   ]
  },
  {
   "cell_type": "markdown",
   "metadata": {},
   "source": [
    "### Sweep result"
   ]
  },
  {
   "cell_type": "code",
   "execution_count": null,
   "metadata": {},
   "outputs": [],
   "source": [
    "sweepr = REPO.get_output_loader(cfg)\n",
    "print(sweepr)"
   ]
  },
  {
   "cell_type": "code",
   "execution_count": null,
   "metadata": {},
   "outputs": [],
   "source": [
    "# failed_jobs = sweepr.get_failed_jobs()\n",
    "# failed_jobs # No failed jobs"
   ]
  },
  {
   "attachments": {},
   "cell_type": "markdown",
   "metadata": {},
   "source": [
    "## B. Analysis 1"
   ]
  },
  {
   "cell_type": "code",
   "execution_count": null,
   "metadata": {},
   "outputs": [],
   "source": [
    "pprint(sweepr.available_log_columns)"
   ]
  },
  {
   "cell_type": "code",
   "execution_count": null,
   "metadata": {},
   "outputs": [],
   "source": [
    "sw_summary = sweepr.get_summary()"
   ]
  },
  {
   "cell_type": "code",
   "execution_count": null,
   "metadata": {},
   "outputs": [],
   "source": [
    "sw_summary"
   ]
  }
 ],
 "metadata": {
  "kernelspec": {
   "display_name": "Python 3.10.4 ('subspaces')",
   "language": "python",
   "name": "python3"
  },
  "language_info": {
   "codemirror_mode": {
    "name": "ipython",
    "version": 3
   },
   "file_extension": ".py",
   "mimetype": "text/x-python",
   "name": "python",
   "nbconvert_exporter": "python",
   "pygments_lexer": "ipython3",
   "version": "3.10.4 (main, Mar 31 2022, 08:41:55) [GCC 7.5.0]"
  },
  "orig_nbformat": 4,
  "vscode": {
   "interpreter": {
    "hash": "ac019f01eb2a0970f066d5e193a84f30bb43215eeeface9d3d8db32241c79700"
   }
  }
 },
 "nbformat": 4,
 "nbformat_minor": 2
}
