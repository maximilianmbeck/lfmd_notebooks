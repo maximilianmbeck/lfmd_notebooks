{
 "cells": [
  {
   "cell_type": "code",
   "execution_count": 1,
   "metadata": {},
   "outputs": [],
   "source": [
    "%load_ext autoreload\n",
    "%autoreload 2\n",
    "import torch\n",
    "import numpy as np\n",
    "import pandas as pd\n",
    "from omegaconf import OmegaConf\n",
    "from pathlib import Path\n",
    "from pprint import pprint\n",
    "# plotting\n",
    "import matplotlib.pyplot as plt\n",
    "import matplotlib as mpl\n",
    "import seaborn as sns\n",
    "# mycode\n",
    "from repo import REPO\n",
    "from ml_utilities.output_loader.result_loader import SweepResult, JobResult\n",
    "from ml_utilities.output_loader import create_job_output_loader\n",
    "from ml_utilities.output_loader.plot import plot_sweep_summary, plot_data_log_values"
   ]
  },
  {
   "attachments": {},
   "cell_type": "markdown",
   "metadata": {},
   "source": [
    "# 21 Cov Analysis\n",
    "\n",
    "Do covariance analysis on every dataset."
   ]
  },
  {
   "attachments": {},
   "cell_type": "markdown",
   "metadata": {},
   "source": [
    "## 21.0 CIFAR10 - resnet"
   ]
  },
  {
   "cell_type": "markdown",
   "metadata": {},
   "source": [
    "### Config file"
   ]
  },
  {
   "cell_type": "code",
   "execution_count": 2,
   "metadata": {},
   "outputs": [],
   "source": [
    "config_yaml = \"\"\"\n",
    "run_config:\n",
    "  exec_type: parallel\n",
    "  hostname: dragonfly\n",
    "  gpu_ids:\n",
    "  - 0\n",
    "  runs_per_gpu: 1\n",
    "  wandb:\n",
    "    init:\n",
    "      tags:\n",
    "      - ${config.experiment_data.experiment_tag}_exps\n",
    "      - run_handler\n",
    "      notes: null\n",
    "      group: ${config.experiment_data.experiment_tag}\n",
    "      job_type: run_handler\n",
    "seeds:\n",
    "- 0\n",
    "start_num: 0\n",
    "config:\n",
    "  experiment_data:\n",
    "    entity: fslgroup #jkuiml-fsl\n",
    "    project_name: tflearning\n",
    "    experiment_tag: '21.0'\n",
    "    experiment_type: startnum_${start_num}\n",
    "    experiment_name: cifar10-${config.experiment_data.experiment_tag}.${start_num}-resnet-B-cov_analysis\n",
    "    experiment_dir: null\n",
    "    experiment_notes: \n",
    "    seed: 0\n",
    "    gpu_id: 0\n",
    "  wandb:\n",
    "    init:\n",
    "      tags:\n",
    "      - ${config.experiment_data.experiment_tag}_exps\n",
    "      notes: ${config.experiment_data.experiment_notes}\n",
    "      group: ${config.experiment_data.experiment_tag}\n",
    "      job_type: ${config.experiment_data.experiment_type}\n",
    "    watch:\n",
    "      log: null\n",
    "      log_freq: null\n",
    "  model:\n",
    "    model_cfg: resnet20-cifar10-B\n",
    "  trainer:\n",
    "    training_setup: supervised_cov_analysis\n",
    "    n_steps: 64000.0\n",
    "    val_every: 500\n",
    "    save_every: 64000.0\n",
    "    early_stopping_patience: 64000.0\n",
    "    batch_size: 128\n",
    "    optimizer_scheduler:\n",
    "      optimizer_name: SGD\n",
    "      optimizer_kwargs:\n",
    "        lr: 0.1\n",
    "        momentum: 0.9\n",
    "        weight_decay: 0.0001\n",
    "      lr_scheduler_name: MultiStepLR\n",
    "      lr_scheduler_kwargs:\n",
    "        milestones:\n",
    "        - 32000.0\n",
    "        - 48000.0\n",
    "        gamma: 0.1\n",
    "    loss: crossentropy\n",
    "    metrics:\n",
    "    - Accuracy\n",
    "    num_workers: 4\n",
    "    log_train_step_every: 50\n",
    "    log_additional_train_step_every: 50\n",
    "    enable_cov_analysis: True\n",
    "    cov_analysis_args:\n",
    "      num_batches: 25\n",
    "      use_tqdm: False\n",
    "  data:\n",
    "    dataset: cifar10\n",
    "    dataset_kwargs:\n",
    "      data_root_path: /system/user/beck/pwbeck/data\n",
    "    dataset_split:\n",
    "      train_val_split: 0.9\n",
    "    train_split_transforms:\n",
    "      image_transforms:\n",
    "      - RandomHorizontalFlip\n",
    "      - RandomCrop:\n",
    "          size: 32\n",
    "          padding: 4\n",
    "      tensor_transforms: null\n",
    "      joint_tensor_transforms: null\n",
    "      enable_transforms: true\n",
    "\"\"\"\n",
    "cfg = OmegaConf.create(config_yaml)"
   ]
  },
  {
   "cell_type": "code",
   "execution_count": 3,
   "metadata": {},
   "outputs": [
    {
     "name": "stdout",
     "output_type": "stream",
     "text": [
      "python run.py --config-name cifar10-21.0.0-resnet-B-cov_analysis.yaml\n"
     ]
    }
   ],
   "source": [
    "run_command = REPO.create_experiment(cfg, override=False)\n",
    "print(run_command)"
   ]
  },
  {
   "cell_type": "markdown",
   "metadata": {},
   "source": [
    "### Sweep result"
   ]
  },
  {
   "cell_type": "code",
   "execution_count": null,
   "metadata": {},
   "outputs": [],
   "source": [
    "sw_summary = sweepr.get_summary()"
   ]
  },
  {
   "cell_type": "code",
   "execution_count": null,
   "metadata": {},
   "outputs": [],
   "source": [
    "sw_summary"
   ]
  },
  {
   "attachments": {},
   "cell_type": "markdown",
   "metadata": {},
   "source": [
    "## 21.1 CIFAR10 - lenet"
   ]
  },
  {
   "cell_type": "markdown",
   "metadata": {},
   "source": [
    "### Config file"
   ]
  },
  {
   "cell_type": "code",
   "execution_count": 4,
   "metadata": {},
   "outputs": [],
   "source": [
    "config_yaml = \"\"\"\n",
    "run_config:\n",
    "  exec_type: parallel\n",
    "  hostname: dragonfly\n",
    "  gpu_ids:\n",
    "  - 0\n",
    "  runs_per_gpu: 1\n",
    "  wandb:\n",
    "    init:\n",
    "      tags:\n",
    "      - ${config.experiment_data.experiment_tag}_exps\n",
    "      - run_handler\n",
    "      notes: null\n",
    "      group: ${config.experiment_data.experiment_tag}\n",
    "      job_type: run_handler\n",
    "seeds:\n",
    "- 0\n",
    "start_num: 0\n",
    "config:\n",
    "  experiment_data:\n",
    "    entity: fslgroup #jkuiml-fsl\n",
    "    project_name: tflearning\n",
    "    experiment_tag: '21.1'\n",
    "    experiment_type: startnum_${start_num}\n",
    "    experiment_name: cifar10-${config.experiment_data.experiment_tag}.${start_num}-resnet-B-cov_analysis-lenet\n",
    "    experiment_dir: null\n",
    "    experiment_notes: \n",
    "    seed: 0\n",
    "    gpu_id: 1\n",
    "  wandb:\n",
    "    init:\n",
    "      tags:\n",
    "      - ${config.experiment_data.experiment_tag}_exps\n",
    "      notes: ${config.experiment_data.experiment_notes}\n",
    "      group: ${config.experiment_data.experiment_tag}\n",
    "      job_type: ${config.experiment_data.experiment_type}\n",
    "    watch:\n",
    "      log: null\n",
    "      log_freq: null\n",
    "  model:\n",
    "    model_cfg: lenet_300_100_relu_cifar10\n",
    "  trainer:\n",
    "    training_setup: supervised_cov_analysis\n",
    "    n_steps: 96e3 #64e3\n",
    "    val_every: 500\n",
    "    save_every: 10000 # CHECK\n",
    "    batch_size: 128\n",
    "    optimizer_scheduler:\n",
    "      optimizer_name: AdamW\n",
    "      optimizer_kwargs:\n",
    "        lr: 0.001\n",
    "        weight_decay: 0.0\n",
    "      # lr_scheduler_name: MultiStepLR\n",
    "      # lr_scheduler_kwargs:\n",
    "      #   milestones: [32e3, 64e3] # [32e3, 48e3]\n",
    "      #   gamma: 0.1\n",
    "    loss: crossentropy\n",
    "    metrics:\n",
    "    - Accuracy\n",
    "    num_workers: 4\n",
    "    log_train_step_every: 50\n",
    "    log_additional_train_step_every: 50\n",
    "    enable_cov_analysis: True\n",
    "    cov_analysis_args:\n",
    "      num_batches: 25\n",
    "      use_tqdm: False\n",
    "  data:\n",
    "    dataset: cifar10\n",
    "    dataset_kwargs:\n",
    "      data_root_path: /system/user/beck/pwbeck/data\n",
    "    dataset_split:\n",
    "      train_val_split: 0.9\n",
    "    train_split_transforms:\n",
    "      image_transforms:\n",
    "      - RandomHorizontalFlip\n",
    "      - RandomCrop:\n",
    "          size: 32\n",
    "          padding: 4\n",
    "      tensor_transforms: null\n",
    "      joint_tensor_transforms: null\n",
    "      enable_transforms: true\n",
    "\"\"\"\n",
    "cfg = OmegaConf.create(config_yaml)"
   ]
  },
  {
   "cell_type": "code",
   "execution_count": 5,
   "metadata": {},
   "outputs": [
    {
     "name": "stdout",
     "output_type": "stream",
     "text": [
      "python run.py --config-name cifar10-21.1.0-resnet-B-cov_analysis-lenet.yaml\n"
     ]
    }
   ],
   "source": [
    "run_command = REPO.create_experiment(cfg, override=False)\n",
    "print(run_command)"
   ]
  },
  {
   "cell_type": "markdown",
   "metadata": {},
   "source": [
    "### Sweep result"
   ]
  },
  {
   "cell_type": "code",
   "execution_count": null,
   "metadata": {},
   "outputs": [],
   "source": [
    "sw_summary = sweepr.get_summary()"
   ]
  },
  {
   "cell_type": "code",
   "execution_count": null,
   "metadata": {},
   "outputs": [],
   "source": [
    "sw_summary"
   ]
  },
  {
   "attachments": {},
   "cell_type": "markdown",
   "metadata": {},
   "source": [
    "## 21.2 FMNIST - resnet"
   ]
  },
  {
   "cell_type": "markdown",
   "metadata": {},
   "source": [
    "### Config file"
   ]
  },
  {
   "cell_type": "code",
   "execution_count": 6,
   "metadata": {},
   "outputs": [],
   "source": [
    "config_yaml = \"\"\"\n",
    "run_config:\n",
    "  exec_type: parallel\n",
    "  hostname: dragonfly\n",
    "  gpu_ids:\n",
    "  - 0\n",
    "  runs_per_gpu: 1\n",
    "  wandb:\n",
    "    init:\n",
    "      tags:\n",
    "      - ${config.experiment_data.experiment_tag}_exps\n",
    "      - run_handler\n",
    "      notes: null\n",
    "      group: ${config.experiment_data.experiment_tag}\n",
    "      job_type: run_handler\n",
    "seeds:\n",
    "- 0\n",
    "start_num: 0\n",
    "config:\n",
    "  experiment_data:\n",
    "    entity: fslgroup #jkuiml-fsl\n",
    "    project_name: tflearning\n",
    "    experiment_tag: '21.2'\n",
    "    experiment_type: startnum_${start_num}\n",
    "    experiment_name: fmnist-${config.experiment_data.experiment_tag}.${start_num}-resnet-B-cov_analysis\n",
    "    experiment_dir: null\n",
    "    experiment_notes: \n",
    "    seed: 0\n",
    "    gpu_id: 0\n",
    "  wandb:\n",
    "    init:\n",
    "      tags:\n",
    "      - ${config.experiment_data.experiment_tag}_exps\n",
    "      notes: ${config.experiment_data.experiment_notes}\n",
    "      group: ${config.experiment_data.experiment_tag}\n",
    "      job_type: ${config.experiment_data.experiment_type}\n",
    "    watch:\n",
    "      log: null\n",
    "      log_freq: null\n",
    "  model:\n",
    "    model_cfg: resnet20-mnist-B\n",
    "  trainer:\n",
    "    training_setup: supervised_cov_analysis\n",
    "    n_steps: 24e3\n",
    "    val_every: 500\n",
    "    save_every: 24e3 \n",
    "    batch_size: 128\n",
    "    optimizer_scheduler:\n",
    "      optimizer_name: SGD\n",
    "      optimizer_kwargs:\n",
    "        lr: 0.5\n",
    "        weight_decay: 0.0\n",
    "      lr_scheduler_name: MultiStepLR\n",
    "      lr_scheduler_kwargs:\n",
    "        milestones: [8e3, 16e3]\n",
    "        gamma: 0.1\n",
    "    loss: crossentropy\n",
    "    metrics:\n",
    "    - Accuracy\n",
    "    num_workers: 4\n",
    "    log_train_step_every: 50\n",
    "    log_additional_train_step_every: 50\n",
    "    enable_cov_analysis: True\n",
    "    cov_analysis_args:\n",
    "      num_batches: 25\n",
    "      use_tqdm: False\n",
    "  data:\n",
    "    dataset: fashion_mnist\n",
    "    dataset_kwargs:\n",
    "      data_root_path: /system/user/beck/pwbeck/data\n",
    "    dataset_split:\n",
    "      train_val_split: 0.9\n",
    "\"\"\"\n",
    "cfg = OmegaConf.create(config_yaml)"
   ]
  },
  {
   "cell_type": "code",
   "execution_count": 7,
   "metadata": {},
   "outputs": [
    {
     "name": "stdout",
     "output_type": "stream",
     "text": [
      "python run.py --config-name fmnist-21.2.0-resnet-B-cov_analysis.yaml\n"
     ]
    }
   ],
   "source": [
    "run_command = REPO.create_experiment(cfg, override=False)\n",
    "print(run_command)"
   ]
  },
  {
   "cell_type": "markdown",
   "metadata": {},
   "source": [
    "### Sweep result"
   ]
  },
  {
   "cell_type": "code",
   "execution_count": 8,
   "metadata": {},
   "outputs": [
    {
     "ename": "NameError",
     "evalue": "name 'sweepr' is not defined",
     "output_type": "error",
     "traceback": [
      "\u001b[0;31m---------------------------------------------------------------------------\u001b[0m",
      "\u001b[0;31mNameError\u001b[0m                                 Traceback (most recent call last)",
      "\u001b[1;32m/system/user/beck/pwbeck/projects/regularization/lfmd_notebooks/lfmd_notebooks/21-cov_analysis.ipynb Cell 22\u001b[0m in \u001b[0;36m<cell line: 1>\u001b[0;34m()\u001b[0m\n\u001b[0;32m----> <a href='vscode-notebook-cell://ssh-remote%2Bdragonfly/system/user/beck/pwbeck/projects/regularization/lfmd_notebooks/lfmd_notebooks/21-cov_analysis.ipynb#X44sdnNjb2RlLXJlbW90ZQ%3D%3D?line=0'>1</a>\u001b[0m sw_summary \u001b[39m=\u001b[39m sweepr\u001b[39m.\u001b[39mget_summary()\n",
      "\u001b[0;31mNameError\u001b[0m: name 'sweepr' is not defined"
     ]
    }
   ],
   "source": [
    "sw_summary = sweepr.get_summary()"
   ]
  },
  {
   "cell_type": "code",
   "execution_count": null,
   "metadata": {},
   "outputs": [],
   "source": [
    "sw_summary"
   ]
  },
  {
   "attachments": {},
   "cell_type": "markdown",
   "metadata": {},
   "source": [
    "## 21.3 FMNIST - lenet"
   ]
  },
  {
   "cell_type": "markdown",
   "metadata": {},
   "source": [
    "### Config file"
   ]
  },
  {
   "cell_type": "code",
   "execution_count": 11,
   "metadata": {},
   "outputs": [],
   "source": [
    "config_yaml = \"\"\"\n",
    "run_config:\n",
    "  exec_type: parallel\n",
    "  hostname: dragonfly\n",
    "  gpu_ids:\n",
    "  - 0\n",
    "  runs_per_gpu: 1\n",
    "  wandb:\n",
    "    init:\n",
    "      tags:\n",
    "      - ${config.experiment_data.experiment_tag}_exps\n",
    "      - run_handler\n",
    "      notes: null\n",
    "      group: ${config.experiment_data.experiment_tag}\n",
    "      job_type: run_handler\n",
    "seeds:\n",
    "- 0\n",
    "start_num: 0\n",
    "config:\n",
    "  experiment_data:\n",
    "    entity: fslgroup #jkuiml-fsl\n",
    "    project_name: tflearning\n",
    "    experiment_tag: '21.3'\n",
    "    experiment_type: startnum_${start_num}\n",
    "    experiment_name: fmnist-${config.experiment_data.experiment_tag}.${start_num}-lenet-cov_analysis\n",
    "    experiment_dir: null\n",
    "    experiment_notes: \n",
    "    seed: 0\n",
    "    gpu_id: 2\n",
    "  wandb:\n",
    "    init:\n",
    "      tags:\n",
    "      - ${config.experiment_data.experiment_tag}_exps\n",
    "      notes: ${config.experiment_data.experiment_notes}\n",
    "      group: ${config.experiment_data.experiment_tag}\n",
    "      job_type: ${config.experiment_data.experiment_type}\n",
    "    watch:\n",
    "      log: null\n",
    "      log_freq: null\n",
    "  model:\n",
    "    model_cfg: lenet_300_100_relu_mnist\n",
    "  trainer:\n",
    "    training_setup: supervised_cov_analysis\n",
    "    n_steps: 24e3\n",
    "    val_every: 500\n",
    "    save_every: 24e3\n",
    "    batch_size: 128\n",
    "    optimizer_scheduler:\n",
    "      optimizer_name: AdamW\n",
    "      optimizer_kwargs:\n",
    "        lr: 0.001\n",
    "        weight_decay: 0.0\n",
    "      # lr_scheduler_name: MultiStepLR\n",
    "      # lr_scheduler_kwargs:\n",
    "      #   milestones: [32e3, 48e3]\n",
    "      #   gamma: 0.1\n",
    "    loss: crossentropy\n",
    "    metrics:\n",
    "    - Accuracy\n",
    "    num_workers: 4\n",
    "    log_train_step_every: 50\n",
    "    log_additional_train_step_every: 50\n",
    "    enable_cov_analysis: True\n",
    "    cov_analysis_args:\n",
    "      num_batches: 25\n",
    "      use_tqdm: False\n",
    "  data:\n",
    "    dataset: fashion_mnist\n",
    "    dataset_kwargs:\n",
    "      data_root_path: /system/user/beck/pwbeck/data\n",
    "    dataset_split:\n",
    "      train_val_split: 0.9\n",
    "\"\"\"\n",
    "cfg = OmegaConf.create(config_yaml)"
   ]
  },
  {
   "cell_type": "code",
   "execution_count": 13,
   "metadata": {},
   "outputs": [
    {
     "name": "stdout",
     "output_type": "stream",
     "text": [
      "python run.py --config-name fmnist-21.3.0-lenet-cov_analysis.yaml\n"
     ]
    }
   ],
   "source": [
    "run_command = REPO.create_experiment(cfg, override=True)\n",
    "print(run_command)"
   ]
  },
  {
   "cell_type": "markdown",
   "metadata": {},
   "source": [
    "### Sweep result"
   ]
  },
  {
   "cell_type": "code",
   "execution_count": null,
   "metadata": {},
   "outputs": [
    {
     "ename": "NameError",
     "evalue": "name 'sweepr' is not defined",
     "output_type": "error",
     "traceback": [
      "\u001b[0;31m---------------------------------------------------------------------------\u001b[0m\n",
      "\u001b[0;31mNameError\u001b[0m                                 Traceback (most recent call last)\n",
      "\u001b[1;32m/system/user/beck/pwbeck/projects/regularization/lfmd_notebooks/lfmd_notebooks/21-cov_analysis.ipynb Cell 22\u001b[0m in \u001b[0;36m<cell line: 1>\u001b[0;34m()\u001b[0m\n",
      "\u001b[0;32m----> <a href='vscode-notebook-cell://ssh-remote%2Bdragonfly/system/user/beck/pwbeck/projects/regularization/lfmd_notebooks/lfmd_notebooks/21-cov_analysis.ipynb#X44sdnNjb2RlLXJlbW90ZQ%3D%3D?line=0'>1</a>\u001b[0m sw_summary \u001b[39m=\u001b[39m sweepr\u001b[39m.\u001b[39mget_summary()\n",
      "\n",
      "\u001b[0;31mNameError\u001b[0m: name 'sweepr' is not defined"
     ]
    }
   ],
   "source": [
    "sw_summary = sweepr.get_summary()"
   ]
  },
  {
   "cell_type": "code",
   "execution_count": null,
   "metadata": {},
   "outputs": [],
   "source": [
    "sw_summary"
   ]
  },
  {
   "cell_type": "code",
   "execution_count": null,
   "metadata": {},
   "outputs": [],
   "source": [
    "sw_summary"
   ]
  },
  {
   "attachments": {},
   "cell_type": "markdown",
   "metadata": {},
   "source": [
    "## 21.4 MNIST - lenet"
   ]
  },
  {
   "cell_type": "markdown",
   "metadata": {},
   "source": [
    "### Config file"
   ]
  },
  {
   "cell_type": "code",
   "execution_count": 14,
   "metadata": {},
   "outputs": [],
   "source": [
    "config_yaml = \"\"\"\n",
    "run_config:\n",
    "  exec_type: parallel\n",
    "  hostname: dragonfly\n",
    "  gpu_ids:\n",
    "  - 0\n",
    "  runs_per_gpu: 1\n",
    "  wandb:\n",
    "    init:\n",
    "      tags:\n",
    "      - ${config.experiment_data.experiment_tag}_exps\n",
    "      - run_handler\n",
    "      notes: null\n",
    "      group: ${config.experiment_data.experiment_tag}\n",
    "      job_type: run_handler\n",
    "seeds:\n",
    "- 0\n",
    "start_num: 0\n",
    "config:\n",
    "  experiment_data:\n",
    "    entity: fslgroup #jkuiml-fsl\n",
    "    project_name: tflearning\n",
    "    experiment_tag: '21.4'\n",
    "    experiment_type: startnum_${start_num}\n",
    "    experiment_name: mnist-${config.experiment_data.experiment_tag}.${start_num}-lenet-cov_analysis\n",
    "    experiment_dir: null\n",
    "    experiment_notes: \n",
    "    seed: 0\n",
    "    gpu_id: 3\n",
    "  wandb:\n",
    "    init:\n",
    "      tags:\n",
    "      - ${config.experiment_data.experiment_tag}_exps\n",
    "      notes: ${config.experiment_data.experiment_notes}\n",
    "      group: ${config.experiment_data.experiment_tag}\n",
    "      job_type: ${config.experiment_data.experiment_type}\n",
    "    watch:\n",
    "      log: null\n",
    "      log_freq: null\n",
    "  model:\n",
    "    model_cfg: lenet_300_100_relu_mnist\n",
    "  trainer:\n",
    "    training_setup: supervised_cov_analysis\n",
    "    n_steps: 24e3\n",
    "    val_every: 500\n",
    "    save_every: 24e3\n",
    "    batch_size: 128\n",
    "    optimizer_scheduler:\n",
    "      optimizer_name: AdamW\n",
    "      optimizer_kwargs:\n",
    "        lr: 0.001\n",
    "        weight_decay: 0.0\n",
    "      # lr_scheduler_name: MultiStepLR\n",
    "      # lr_scheduler_kwargs:\n",
    "      #   milestones: [32e3, 48e3]\n",
    "      #   gamma: 0.1\n",
    "    loss: crossentropy\n",
    "    metrics:\n",
    "    - Accuracy\n",
    "    num_workers: 4\n",
    "    log_train_step_every: 50\n",
    "    log_additional_train_step_every: 50\n",
    "    enable_cov_analysis: True\n",
    "    cov_analysis_args:\n",
    "      num_batches: 25\n",
    "      use_tqdm: False\n",
    "  data:\n",
    "    dataset: mnist\n",
    "    dataset_kwargs:\n",
    "      data_root_path: /system/user/beck/pwbeck/data\n",
    "    dataset_split:\n",
    "      train_val_split: 0.9\n",
    "\"\"\"\n",
    "cfg = OmegaConf.create(config_yaml)"
   ]
  },
  {
   "cell_type": "code",
   "execution_count": 15,
   "metadata": {},
   "outputs": [
    {
     "name": "stdout",
     "output_type": "stream",
     "text": [
      "python run.py --config-name mnist-21.4.0-lenet-cov_analysis.yaml\n"
     ]
    }
   ],
   "source": [
    "run_command = REPO.create_experiment(cfg, override=True)\n",
    "print(run_command)"
   ]
  },
  {
   "cell_type": "markdown",
   "metadata": {},
   "source": [
    "### Sweep result"
   ]
  },
  {
   "cell_type": "code",
   "execution_count": null,
   "metadata": {},
   "outputs": [
    {
     "ename": "NameError",
     "evalue": "name 'sweepr' is not defined",
     "output_type": "error",
     "traceback": [
      "\u001b[0;31m---------------------------------------------------------------------------\u001b[0m\n",
      "\u001b[0;31mNameError\u001b[0m                                 Traceback (most recent call last)\n",
      "\u001b[1;32m/system/user/beck/pwbeck/projects/regularization/lfmd_notebooks/lfmd_notebooks/21-cov_analysis.ipynb Cell 22\u001b[0m in \u001b[0;36m<cell line: 1>\u001b[0;34m()\u001b[0m\n",
      "\u001b[0;32m----> <a href='vscode-notebook-cell://ssh-remote%2Bdragonfly/system/user/beck/pwbeck/projects/regularization/lfmd_notebooks/lfmd_notebooks/21-cov_analysis.ipynb#X44sdnNjb2RlLXJlbW90ZQ%3D%3D?line=0'>1</a>\u001b[0m sw_summary \u001b[39m=\u001b[39m sweepr\u001b[39m.\u001b[39mget_summary()\n",
      "\n",
      "\u001b[0;31mNameError\u001b[0m: name 'sweepr' is not defined"
     ]
    }
   ],
   "source": [
    "sw_summary = sweepr.get_summary()"
   ]
  },
  {
   "cell_type": "code",
   "execution_count": null,
   "metadata": {},
   "outputs": [],
   "source": [
    "sw_summary"
   ]
  }
 ],
 "metadata": {
  "kernelspec": {
   "display_name": "Python 3.10.4 ('subspaces')",
   "language": "python",
   "name": "python3"
  },
  "language_info": {
   "codemirror_mode": {
    "name": "ipython",
    "version": 3
   },
   "file_extension": ".py",
   "mimetype": "text/x-python",
   "name": "python",
   "nbconvert_exporter": "python",
   "pygments_lexer": "ipython3",
   "version": "3.10.4"
  },
  "orig_nbformat": 4,
  "vscode": {
   "interpreter": {
    "hash": "ac019f01eb2a0970f066d5e193a84f30bb43215eeeface9d3d8db32241c79700"
   }
  }
 },
 "nbformat": 4,
 "nbformat_minor": 2
}
