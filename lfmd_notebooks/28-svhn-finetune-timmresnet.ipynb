{
 "cells": [
  {
   "cell_type": "code",
   "execution_count": 1,
   "metadata": {},
   "outputs": [],
   "source": [
    "%load_ext autoreload\n",
    "%autoreload 2\n",
    "import torch\n",
    "import numpy as np\n",
    "import pandas as pd\n",
    "from omegaconf import OmegaConf\n",
    "from pathlib import Path\n",
    "from pprint import pprint\n",
    "# plotting\n",
    "import matplotlib.pyplot as plt\n",
    "import matplotlib as mpl\n",
    "import seaborn as sns\n",
    "# mycode\n",
    "from repo import REPO\n",
    "from ml_utilities.output_loader.result_loader import SweepResult, JobResult\n",
    "from ml_utilities.output_loader import create_job_output_loader\n",
    "from ml_utilities.output_loader.plot import plot_sweep_summary, plot_data_log_values"
   ]
  },
  {
   "attachments": {},
   "cell_type": "markdown",
   "metadata": {},
   "source": [
    "# 28 Finetune resnet18 on svhn\n",
    "\n",
    "Steps: \n",
    "- [x] do hypsearch on full dataset\n",
    "- [] select random samples (prune randomly)\n",
    "- [] select samples according to prediction depth metric"
   ]
  },
  {
   "cell_type": "markdown",
   "metadata": {},
   "source": [
    "## A. Experiment config"
   ]
  },
  {
   "cell_type": "markdown",
   "metadata": {},
   "source": [
    "### Config file"
   ]
  },
  {
   "cell_type": "code",
   "execution_count": 2,
   "metadata": {},
   "outputs": [],
   "source": [
    "config_yaml = \"\"\"\n",
    "run_config:\n",
    "  exec_type: parallel\n",
    "  hostname: spider\n",
    "  gpu_ids: [2,3]\n",
    "  runs_per_gpu: 1\n",
    "  wandb:\n",
    "    init:\n",
    "      tags:\n",
    "      - ${config.experiment_data.experiment_tag}_exps\n",
    "      - run_handler\n",
    "      notes: null\n",
    "      group: ${config.experiment_data.experiment_tag}\n",
    "      job_type: run_handler\n",
    "\n",
    "seeds: [0]\n",
    "\n",
    "sweep:\n",
    "  type: grid\n",
    "  axes: \n",
    "  - parameter: trainer.optimizer.kwargs.lr\n",
    "    vals: [5e-3, 1e-3, 5e-4, 1e-4, 5e-5, 1e-5]\n",
    "  - parameter: trainer.optimizer.kwargs.weight_decay\n",
    "    vals: [0.0, 1e-4]\n",
    "    \n",
    "start_num: 0\n",
    "\n",
    "config:\n",
    "  experiment_data:\n",
    "    entity: fslgroup\n",
    "    project_name: tflearning\n",
    "    experiment_tag: '28-svhn-hyps'\n",
    "    experiment_type: startnum_${start_num}\n",
    "    experiment_name: svhn-${config.experiment_data.experiment_tag}.${start_num}-resnet18-ft-hypsearch\n",
    "    experiment_dir: null\n",
    "    experiment_notes: \n",
    "    seed: 0\n",
    "    gpu_id: 1\n",
    "  \n",
    "  model:\n",
    "    name: timmmodel\n",
    "    kwargs:\n",
    "      name: resnet18\n",
    "      timm_kwargs:\n",
    "        pretrained: True\n",
    "  \n",
    "  trainer:\n",
    "    training_setup: finetune\n",
    "    n_epochs: 30\n",
    "    val_every: 1\n",
    "    early_stopping_patience: 15\n",
    "    save_every: 100e3\n",
    "    batch_size: 128 #256\n",
    "    optimizer:\n",
    "      name: AdamW\n",
    "      kwargs:\n",
    "        lr: 1e-3\n",
    "        weight_decay: 0.0\n",
    "    loss: crossentropy\n",
    "    num_workers: 6\n",
    "  \n",
    "  data:\n",
    "    name: sun397\n",
    "    kwargs:\n",
    "      data_root_path: /system/user/beck/pwbeck/data\n",
    "      n_px: 224\n",
    "\"\"\"\n",
    "cfg = OmegaConf.create(config_yaml)"
   ]
  },
  {
   "cell_type": "code",
   "execution_count": 3,
   "metadata": {},
   "outputs": [],
   "source": [
    "# run_command = REPO.create_experiment(cfg, override=False)\n",
    "# print(run_command)"
   ]
  },
  {
   "cell_type": "markdown",
   "metadata": {},
   "source": [
    "### Sweep result"
   ]
  },
  {
   "cell_type": "code",
   "execution_count": 4,
   "metadata": {},
   "outputs": [
    {
     "name": "stdout",
     "output_type": "stream",
     "text": [
      "Exp. Tag(start_num): 28-svhn-hyps(0)\n",
      "Exp. Name: svhn-28-svhn-hyps.0-resnet18-ft-hypsearch\n",
      "Training setup: finetune\n",
      "Model name: timmmodel\n",
      "Dataset name: sun397\n",
      "Sweep type: grid\n",
      "  trainer.optimizer.kwargs.lr: [0.005, 0.001, 0.0005, 0.0001, 5e-05, 1e-05]\n",
      "  trainer.optimizer.kwargs.weight_decay: [0.0, 0.0001]\n",
      "Seeds: [0]\n",
      "Num. jobs: 12\n",
      "Config updated: 2023-03-18 18:04:36\n",
      "Sweep started:  2023-03-18 17:55:13\n",
      "\n"
     ]
    }
   ],
   "source": [
    "sweepr = REPO.get_output_loader(cfg)\n",
    "print(sweepr)"
   ]
  },
  {
   "cell_type": "code",
   "execution_count": 5,
   "metadata": {},
   "outputs": [
    {
     "name": "stderr",
     "output_type": "stream",
     "text": [
      "Collecting failed jobs: 100%|██████████| 12/12 [00:00<00:00, 25.30it/s]\n"
     ]
    },
    {
     "data": {
      "text/plain": [
       "([JobResult(/system/user/publicwork/beck/projects/regularization/tflearning/outputs/svhn-28-svhn-hyps.0-resnet18-ft-hypsearch--230318_175513/outputs/svhn-28-svhn-hyps.0-resnet18-ft-hypsearch--lr-1e-05-weight_decay-0.0001-seed-0--230321_012833),\n",
       "  JobResult(/system/user/publicwork/beck/projects/regularization/tflearning/outputs/svhn-28-svhn-hyps.0-resnet18-ft-hypsearch--230318_175513/outputs/svhn-28-svhn-hyps.0-resnet18-ft-hypsearch--lr-5e-05-weight_decay-0-seed-0--230321_012649),\n",
       "  JobResult(/system/user/publicwork/beck/projects/regularization/tflearning/outputs/svhn-28-svhn-hyps.0-resnet18-ft-hypsearch--230318_175513/outputs/svhn-28-svhn-hyps.0-resnet18-ft-hypsearch--lr-1e-05-weight_decay-0-seed-0--230321_012814),\n",
       "  JobResult(/system/user/publicwork/beck/projects/regularization/tflearning/outputs/svhn-28-svhn-hyps.0-resnet18-ft-hypsearch--230318_175513/outputs/svhn-28-svhn-hyps.0-resnet18-ft-hypsearch--lr-5e-05-weight_decay-0.0001-seed-0--230321_012732)],\n",
       " {'trainer.optimizer.kwargs.lr': [1e-05, 5e-05],\n",
       "  'seed': [0],\n",
       "  'trainer.optimizer.kwargs.weight_decay': [0.0, 0.0001]})"
      ]
     },
     "execution_count": 5,
     "metadata": {},
     "output_type": "execute_result"
    }
   ],
   "source": [
    "failed_jobs = sweepr.get_failed_jobs()\n",
    "failed_jobs # No failed jobs"
   ]
  },
  {
   "cell_type": "code",
   "execution_count": 6,
   "metadata": {},
   "outputs": [
    {
     "name": "stderr",
     "output_type": "stream",
     "text": [
      "Collecting summaries: 100%|██████████| 12/12 [00:00<00:00, 49.22it/s]"
     ]
    },
    {
     "name": "stdout",
     "output_type": "stream",
     "text": [
      "Could not find job /system/user/publicwork/beck/projects/regularization/tflearning/outputs/svhn-28-svhn-hyps.0-resnet18-ft-hypsearch--230318_175513/outputs/svhn-28-svhn-hyps.0-resnet18-ft-hypsearch--lr-1e-05-weight_decay-0-seed-0--230321_012814\n",
      "Could not find job /system/user/publicwork/beck/projects/regularization/tflearning/outputs/svhn-28-svhn-hyps.0-resnet18-ft-hypsearch--230318_175513/outputs/svhn-28-svhn-hyps.0-resnet18-ft-hypsearch--lr-1e-05-weight_decay-0.0001-seed-0--230321_012833\n",
      "Could not find job /system/user/publicwork/beck/projects/regularization/tflearning/outputs/svhn-28-svhn-hyps.0-resnet18-ft-hypsearch--230318_175513/outputs/svhn-28-svhn-hyps.0-resnet18-ft-hypsearch--lr-5e-05-weight_decay-0-seed-0--230321_012649\n",
      "Could not find job /system/user/publicwork/beck/projects/regularization/tflearning/outputs/svhn-28-svhn-hyps.0-resnet18-ft-hypsearch--230318_175513/outputs/svhn-28-svhn-hyps.0-resnet18-ft-hypsearch--lr-5e-05-weight_decay-0.0001-seed-0--230321_012732\n"
     ]
    },
    {
     "name": "stderr",
     "output_type": "stream",
     "text": [
      "\n"
     ]
    },
    {
     "data": {
      "text/html": [
       "<div>\n",
       "<style scoped>\n",
       "    .dataframe tbody tr th:only-of-type {\n",
       "        vertical-align: middle;\n",
       "    }\n",
       "\n",
       "    .dataframe tbody tr th {\n",
       "        vertical-align: top;\n",
       "    }\n",
       "\n",
       "    .dataframe thead th {\n",
       "        text-align: right;\n",
       "    }\n",
       "</style>\n",
       "<table border=\"1\" class=\"dataframe\">\n",
       "  <thead>\n",
       "    <tr style=\"text-align: right;\">\n",
       "      <th></th>\n",
       "      <th>best_epoch</th>\n",
       "      <th>best_val_score</th>\n",
       "      <th>trainer.optimizer.kwargs.lr</th>\n",
       "      <th>trainer.optimizer.kwargs.weight_decay</th>\n",
       "      <th>seed</th>\n",
       "    </tr>\n",
       "  </thead>\n",
       "  <tbody>\n",
       "    <tr>\n",
       "      <th>svhn-28-svhn-hyps.0-resnet18-ft-hypsearch--lr-0.0001-weight_decay-0-seed-0--230320_105452</th>\n",
       "      <td>6</td>\n",
       "      <td>1.235295</td>\n",
       "      <td>0.0001</td>\n",
       "      <td>0.0000</td>\n",
       "      <td>0</td>\n",
       "    </tr>\n",
       "    <tr>\n",
       "      <th>svhn-28-svhn-hyps.0-resnet18-ft-hypsearch--lr-0.0001-weight_decay-0.0001-seed-0--230320_131330</th>\n",
       "      <td>6</td>\n",
       "      <td>1.235295</td>\n",
       "      <td>0.0001</td>\n",
       "      <td>0.0001</td>\n",
       "      <td>0</td>\n",
       "    </tr>\n",
       "    <tr>\n",
       "      <th>svhn-28-svhn-hyps.0-resnet18-ft-hypsearch--lr-0.0005-weight_decay-0-seed-0--230319_223003</th>\n",
       "      <td>3</td>\n",
       "      <td>1.467791</td>\n",
       "      <td>0.0005</td>\n",
       "      <td>0.0000</td>\n",
       "      <td>0</td>\n",
       "    </tr>\n",
       "    <tr>\n",
       "      <th>svhn-28-svhn-hyps.0-resnet18-ft-hypsearch--lr-0.0005-weight_decay-0.0001-seed-0--230320_004236</th>\n",
       "      <td>3</td>\n",
       "      <td>1.492456</td>\n",
       "      <td>0.0005</td>\n",
       "      <td>0.0001</td>\n",
       "      <td>0</td>\n",
       "    </tr>\n",
       "    <tr>\n",
       "      <th>svhn-28-svhn-hyps.0-resnet18-ft-hypsearch--lr-0.001-weight_decay-0.0001-seed-0--230319_113345</th>\n",
       "      <td>4</td>\n",
       "      <td>1.672451</td>\n",
       "      <td>0.0010</td>\n",
       "      <td>0.0001</td>\n",
       "      <td>0</td>\n",
       "    </tr>\n",
       "    <tr>\n",
       "      <th>svhn-28-svhn-hyps.0-resnet18-ft-hypsearch--lr-0.001-weight_decay-0-seed-0--230319_100208</th>\n",
       "      <td>3</td>\n",
       "      <td>1.679433</td>\n",
       "      <td>0.0010</td>\n",
       "      <td>0.0000</td>\n",
       "      <td>0</td>\n",
       "    </tr>\n",
       "    <tr>\n",
       "      <th>svhn-28-svhn-hyps.0-resnet18-ft-hypsearch--lr-0.005-weight_decay-0-seed-0--230318_175552</th>\n",
       "      <td>11</td>\n",
       "      <td>2.129802</td>\n",
       "      <td>0.0050</td>\n",
       "      <td>0.0000</td>\n",
       "      <td>0</td>\n",
       "    </tr>\n",
       "    <tr>\n",
       "      <th>svhn-28-svhn-hyps.0-resnet18-ft-hypsearch--lr-0.005-weight_decay-0.0001-seed-0--230318_175552</th>\n",
       "      <td>8</td>\n",
       "      <td>2.152835</td>\n",
       "      <td>0.0050</td>\n",
       "      <td>0.0001</td>\n",
       "      <td>0</td>\n",
       "    </tr>\n",
       "  </tbody>\n",
       "</table>\n",
       "</div>"
      ],
      "text/plain": [
       "                                                    best_epoch  \\\n",
       "svhn-28-svhn-hyps.0-resnet18-ft-hypsearch--lr-0...           6   \n",
       "svhn-28-svhn-hyps.0-resnet18-ft-hypsearch--lr-0...           6   \n",
       "svhn-28-svhn-hyps.0-resnet18-ft-hypsearch--lr-0...           3   \n",
       "svhn-28-svhn-hyps.0-resnet18-ft-hypsearch--lr-0...           3   \n",
       "svhn-28-svhn-hyps.0-resnet18-ft-hypsearch--lr-0...           4   \n",
       "svhn-28-svhn-hyps.0-resnet18-ft-hypsearch--lr-0...           3   \n",
       "svhn-28-svhn-hyps.0-resnet18-ft-hypsearch--lr-0...          11   \n",
       "svhn-28-svhn-hyps.0-resnet18-ft-hypsearch--lr-0...           8   \n",
       "\n",
       "                                                    best_val_score  \\\n",
       "svhn-28-svhn-hyps.0-resnet18-ft-hypsearch--lr-0...        1.235295   \n",
       "svhn-28-svhn-hyps.0-resnet18-ft-hypsearch--lr-0...        1.235295   \n",
       "svhn-28-svhn-hyps.0-resnet18-ft-hypsearch--lr-0...        1.467791   \n",
       "svhn-28-svhn-hyps.0-resnet18-ft-hypsearch--lr-0...        1.492456   \n",
       "svhn-28-svhn-hyps.0-resnet18-ft-hypsearch--lr-0...        1.672451   \n",
       "svhn-28-svhn-hyps.0-resnet18-ft-hypsearch--lr-0...        1.679433   \n",
       "svhn-28-svhn-hyps.0-resnet18-ft-hypsearch--lr-0...        2.129802   \n",
       "svhn-28-svhn-hyps.0-resnet18-ft-hypsearch--lr-0...        2.152835   \n",
       "\n",
       "                                                    trainer.optimizer.kwargs.lr  \\\n",
       "svhn-28-svhn-hyps.0-resnet18-ft-hypsearch--lr-0...                       0.0001   \n",
       "svhn-28-svhn-hyps.0-resnet18-ft-hypsearch--lr-0...                       0.0001   \n",
       "svhn-28-svhn-hyps.0-resnet18-ft-hypsearch--lr-0...                       0.0005   \n",
       "svhn-28-svhn-hyps.0-resnet18-ft-hypsearch--lr-0...                       0.0005   \n",
       "svhn-28-svhn-hyps.0-resnet18-ft-hypsearch--lr-0...                       0.0010   \n",
       "svhn-28-svhn-hyps.0-resnet18-ft-hypsearch--lr-0...                       0.0010   \n",
       "svhn-28-svhn-hyps.0-resnet18-ft-hypsearch--lr-0...                       0.0050   \n",
       "svhn-28-svhn-hyps.0-resnet18-ft-hypsearch--lr-0...                       0.0050   \n",
       "\n",
       "                                                    trainer.optimizer.kwargs.weight_decay  \\\n",
       "svhn-28-svhn-hyps.0-resnet18-ft-hypsearch--lr-0...                                 0.0000   \n",
       "svhn-28-svhn-hyps.0-resnet18-ft-hypsearch--lr-0...                                 0.0001   \n",
       "svhn-28-svhn-hyps.0-resnet18-ft-hypsearch--lr-0...                                 0.0000   \n",
       "svhn-28-svhn-hyps.0-resnet18-ft-hypsearch--lr-0...                                 0.0001   \n",
       "svhn-28-svhn-hyps.0-resnet18-ft-hypsearch--lr-0...                                 0.0001   \n",
       "svhn-28-svhn-hyps.0-resnet18-ft-hypsearch--lr-0...                                 0.0000   \n",
       "svhn-28-svhn-hyps.0-resnet18-ft-hypsearch--lr-0...                                 0.0000   \n",
       "svhn-28-svhn-hyps.0-resnet18-ft-hypsearch--lr-0...                                 0.0001   \n",
       "\n",
       "                                                    seed  \n",
       "svhn-28-svhn-hyps.0-resnet18-ft-hypsearch--lr-0...     0  \n",
       "svhn-28-svhn-hyps.0-resnet18-ft-hypsearch--lr-0...     0  \n",
       "svhn-28-svhn-hyps.0-resnet18-ft-hypsearch--lr-0...     0  \n",
       "svhn-28-svhn-hyps.0-resnet18-ft-hypsearch--lr-0...     0  \n",
       "svhn-28-svhn-hyps.0-resnet18-ft-hypsearch--lr-0...     0  \n",
       "svhn-28-svhn-hyps.0-resnet18-ft-hypsearch--lr-0...     0  \n",
       "svhn-28-svhn-hyps.0-resnet18-ft-hypsearch--lr-0...     0  \n",
       "svhn-28-svhn-hyps.0-resnet18-ft-hypsearch--lr-0...     0  "
      ]
     },
     "execution_count": 6,
     "metadata": {},
     "output_type": "execute_result"
    }
   ],
   "source": [
    "sweepr.get_summary().sort_values(by='best_val_score', ascending=True)"
   ]
  },
  {
   "attachments": {},
   "cell_type": "markdown",
   "metadata": {},
   "source": [
    "## B. Random subsample sweep"
   ]
  },
  {
   "cell_type": "code",
   "execution_count": 3,
   "metadata": {},
   "outputs": [],
   "source": [
    "config_yaml = \"\"\"\n",
    "run_config:\n",
    "  exec_type: parallel\n",
    "  hostname: wasp\n",
    "  gpu_ids: [0,1,2,3]\n",
    "  runs_per_gpu: 1\n",
    "  wandb:\n",
    "    init:\n",
    "      tags:\n",
    "      - ${config.experiment_data.experiment_tag}_exps\n",
    "      - run_handler\n",
    "      notes: null\n",
    "      group: ${config.experiment_data.experiment_tag}\n",
    "      job_type: run_handler\n",
    "\n",
    "seeds: [0]\n",
    "\n",
    "sweep:\n",
    "  type: grid\n",
    "  axes: \n",
    "  - parameter: data.sample_selector.kwargs.fraction\n",
    "    vals: [0.1, 0.2, 0.4, 0.5, 0.6, 0.7, 0.8, 1.0]\n",
    "    \n",
    "start_num: 1\n",
    "\n",
    "config:\n",
    "  experiment_data:\n",
    "    entity: fslgroup\n",
    "    project_name: tflearning\n",
    "    experiment_tag: '25.1'\n",
    "    experiment_type: startnum_${start_num}\n",
    "    experiment_name: cifar10-${config.experiment_data.experiment_tag}.${start_num}-resnet18-ft-randomsubsample\n",
    "    experiment_dir: null\n",
    "    experiment_notes: \n",
    "    seed: 0\n",
    "    gpu_id: 1\n",
    "  \n",
    "  model:\n",
    "    name: timmmodel\n",
    "    kwargs:\n",
    "      name: resnet18\n",
    "      timm_kwargs:\n",
    "        pretrained: True\n",
    "  \n",
    "  trainer:\n",
    "    training_setup: finetune\n",
    "    n_epochs: 100\n",
    "    val_every: 1\n",
    "    early_stopping_patience: 30\n",
    "    save_every: 100e3\n",
    "    batch_size: 256\n",
    "    optimizer:\n",
    "      name: AdamW\n",
    "      kwargs:\n",
    "        lr: 0.00005\n",
    "        weight_decay: 0.0\n",
    "    loss: crossentropy\n",
    "    num_workers: 6\n",
    "  \n",
    "  data:\n",
    "    name: cifar10\n",
    "    kwargs:\n",
    "      data_root_path: /system/user/beck/pwbeck/data\n",
    "      n_px: 224\n",
    "    sample_selector:\n",
    "      name: random\n",
    "      kwargs:\n",
    "        fraction: 0.1\n",
    "\n",
    "\"\"\"\n",
    "cfg = OmegaConf.create(config_yaml)"
   ]
  },
  {
   "cell_type": "code",
   "execution_count": 1,
   "metadata": {},
   "outputs": [
    {
     "ename": "NameError",
     "evalue": "name 'REPO' is not defined",
     "output_type": "error",
     "traceback": [
      "\u001b[0;31m---------------------------------------------------------------------------\u001b[0m",
      "\u001b[0;31mNameError\u001b[0m                                 Traceback (most recent call last)",
      "\u001b[1;32m/system/user/beck/pwbeck/projects/regularization/lfmd_notebooks/lfmd_notebooks/25-finetune-timmresnet.ipynb Cell 13\u001b[0m in \u001b[0;36m<cell line: 1>\u001b[0;34m()\u001b[0m\n\u001b[0;32m----> <a href='vscode-notebook-cell://ssh-remote%2Bocelot/system/user/beck/pwbeck/projects/regularization/lfmd_notebooks/lfmd_notebooks/25-finetune-timmresnet.ipynb#X15sdnNjb2RlLXJlbW90ZQ%3D%3D?line=0'>1</a>\u001b[0m run_command \u001b[39m=\u001b[39m REPO\u001b[39m.\u001b[39mcreate_experiment(cfg, override\u001b[39m=\u001b[39m\u001b[39mFalse\u001b[39;00m)\n\u001b[1;32m      <a href='vscode-notebook-cell://ssh-remote%2Bocelot/system/user/beck/pwbeck/projects/regularization/lfmd_notebooks/lfmd_notebooks/25-finetune-timmresnet.ipynb#X15sdnNjb2RlLXJlbW90ZQ%3D%3D?line=1'>2</a>\u001b[0m \u001b[39mprint\u001b[39m(run_command)\n",
      "\u001b[0;31mNameError\u001b[0m: name 'REPO' is not defined"
     ]
    }
   ],
   "source": [
    "# run_command = REPO.create_experiment(cfg, override=False)\n",
    "# print(run_command)"
   ]
  },
  {
   "cell_type": "code",
   "execution_count": null,
   "metadata": {},
   "outputs": [],
   "source": []
  },
  {
   "cell_type": "markdown",
   "metadata": {},
   "source": [
    "## B. Random subsample sweep"
   ]
  },
  {
   "cell_type": "code",
   "execution_count": 4,
   "metadata": {},
   "outputs": [],
   "source": [
    "config_yaml = \"\"\"\n",
    "run_config:\n",
    "  exec_type: parallel\n",
    "  hostname: ocelot\n",
    "  gpu_ids: [0]\n",
    "  runs_per_gpu: 2\n",
    "  wandb:\n",
    "    init:\n",
    "      tags:\n",
    "      - ${config.experiment_data.experiment_tag}_exps\n",
    "      - run_handler\n",
    "      notes: null\n",
    "      group: ${config.experiment_data.experiment_tag}\n",
    "      job_type: run_handler\n",
    "\n",
    "seeds: [0]\n",
    "\n",
    "sweep:\n",
    "  type: grid\n",
    "  axes: \n",
    "  - parameter: data.sample_selector.kwargs.fraction\n",
    "    vals: [0.1, 0.2, 0.4, 0.5, 0.6, 0.7, 0.8, 1.0]\n",
    "  - parameter: data.sample_selector.kwargs.keep_highest\n",
    "    vals: [True, False]\n",
    "    \n",
    "start_num: 0\n",
    "\n",
    "config:\n",
    "  experiment_data:\n",
    "    entity: fslgroup\n",
    "    project_name: tflearning\n",
    "    experiment_tag: '25.2-cf10-pd_subsample'\n",
    "    experiment_type: startnum_${start_num}\n",
    "    experiment_name: cifar10-${config.experiment_data.experiment_tag}.${start_num}-resnet18-ft-pdepthsubsample\n",
    "    experiment_dir: null\n",
    "    experiment_notes: \n",
    "    seed: 0\n",
    "    gpu_id: 1\n",
    "  \n",
    "  model:\n",
    "    name: timmmodel\n",
    "    kwargs:\n",
    "      name: resnet18\n",
    "      timm_kwargs:\n",
    "        pretrained: True\n",
    "  \n",
    "  trainer:\n",
    "    training_setup: finetune\n",
    "    n_epochs: 50\n",
    "    val_every: 1\n",
    "    early_stopping_patience: 20\n",
    "    save_every: 100e3\n",
    "    batch_size: 256\n",
    "    optimizer:\n",
    "      name: AdamW\n",
    "      kwargs:\n",
    "        lr: 0.00005\n",
    "        weight_decay: 0.0\n",
    "    loss: crossentropy\n",
    "    num_workers: 6\n",
    "  \n",
    "  data:\n",
    "    name: cifar10\n",
    "    kwargs:\n",
    "      data_root_path: /system/user/beck/pwbeck/data\n",
    "      n_px: 224\n",
    "    sample_selector:\n",
    "      name: prediction_depth\n",
    "      kwargs:\n",
    "        fraction: 0.1\n",
    "        pred_results_file: /system/user/beck/pwbeck/projects/regularization/tflearning/outputs_scripts/prediction_depth/PD-cifar10_resnet18-pretrained--230317_124927/prediction_depth_results.p\n",
    "        keep_highest: True\n",
    "\"\"\"\n",
    "cfg = OmegaConf.create(config_yaml)"
   ]
  },
  {
   "cell_type": "code",
   "execution_count": 5,
   "metadata": {},
   "outputs": [
    {
     "name": "stdout",
     "output_type": "stream",
     "text": [
      "python run_sweep.py --config-name cifar10-25.2-cf10-pd_subsample.0-resnet18-ft-pdepthsubsample.yaml\n"
     ]
    }
   ],
   "source": [
    "run_command = REPO.create_experiment(cfg, override=False)\n",
    "print(run_command)"
   ]
  },
  {
   "cell_type": "code",
   "execution_count": null,
   "metadata": {},
   "outputs": [],
   "source": []
  }
 ],
 "metadata": {
  "kernelspec": {
   "display_name": "Python 3.10.4 ('subspaces')",
   "language": "python",
   "name": "python3"
  },
  "language_info": {
   "codemirror_mode": {
    "name": "ipython",
    "version": 3
   },
   "file_extension": ".py",
   "mimetype": "text/x-python",
   "name": "python",
   "nbconvert_exporter": "python",
   "pygments_lexer": "ipython3",
   "version": "3.10.4"
  },
  "orig_nbformat": 4,
  "vscode": {
   "interpreter": {
    "hash": "ac019f01eb2a0970f066d5e193a84f30bb43215eeeface9d3d8db32241c79700"
   }
  }
 },
 "nbformat": 4,
 "nbformat_minor": 2
}
