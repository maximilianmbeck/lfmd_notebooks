{
 "cells": [
  {
   "cell_type": "code",
   "execution_count": 2,
   "metadata": {},
   "outputs": [],
   "source": [
    "%load_ext autoreload\n",
    "%autoreload 2\n",
    "import torch\n",
    "import numpy as np\n",
    "import pandas as pd\n",
    "from omegaconf import OmegaConf\n",
    "from pathlib import Path\n",
    "from pprint import pprint\n",
    "# plotting\n",
    "import matplotlib.pyplot as plt\n",
    "import matplotlib as mpl\n",
    "import seaborn as sns\n",
    "# mycode\n",
    "from repo import REPO\n",
    "from ml_utilities.output_loader.result_loader import SweepResult, JobResult\n",
    "from ml_utilities.output_loader import create_job_output_loader\n",
    "from ml_utilities.output_loader.plot import plot_sweep_summary, plot_data_log_values\n",
    "import tflearning\n",
    "from tflearning.sample_difficulty.el2n_grand_scores import El2nAndGrandScores\n",
    "import pickle"
   ]
  },
  {
   "attachments": {},
   "cell_type": "markdown",
   "metadata": {},
   "source": [
    "# 30 CIFAR10 EL2N runs\n",
    "\n",
    "This notebook is used to implement the EL2N  nd the GraNd scores"
   ]
  },
  {
   "cell_type": "markdown",
   "metadata": {},
   "source": [
    "## A. Experiment config"
   ]
  },
  {
   "cell_type": "markdown",
   "metadata": {},
   "source": [
    "### Config file"
   ]
  },
  {
   "cell_type": "code",
   "execution_count": 3,
   "metadata": {},
   "outputs": [],
   "source": [
    "config_yaml = \"\"\"\n",
    "run_config:\n",
    "  exec_type: parallel\n",
    "  hostname: scorpion\n",
    "  gpu_ids: [0,1,2,3]\n",
    "  runs_per_gpu: 2\n",
    "  wandb:\n",
    "    init:\n",
    "      tags:\n",
    "      - ${config.experiment_data.experiment_tag}_exps\n",
    "      - run_handler\n",
    "      notes: null\n",
    "      group: ${config.experiment_data.experiment_tag}\n",
    "      job_type: run_handler\n",
    "\n",
    "seeds: [0,1,2,3,4,5,6,7,8,9]\n",
    "\n",
    "sweep:\n",
    "  type: skip\n",
    "  axes: \n",
    "\n",
    "    \n",
    "start_num: 1\n",
    "\n",
    "config:\n",
    "  experiment_data:\n",
    "    entity: fslgroup\n",
    "    project_name: tflearning\n",
    "    experiment_tag: '30-cf10-el2n'\n",
    "    experiment_type: startnum_${start_num}\n",
    "    experiment_name: cifar10-${config.experiment_data.experiment_tag}.${start_num}-resnet18\n",
    "    experiment_dir: null\n",
    "    experiment_notes: \n",
    "    seed: 0\n",
    "    gpu_id: 0\n",
    "  \n",
    "  model:\n",
    "    name: timmmodel\n",
    "    kwargs:\n",
    "      name: resnet18\n",
    "      timm_kwargs:\n",
    "        pretrained: False\n",
    "  \n",
    "  trainer:\n",
    "    training_setup: finetune\n",
    "    n_epochs: 30\n",
    "    save_every: 10\n",
    "    val_every: 1\n",
    "    early_stopping_patience: 30\n",
    "    batch_size: 128\n",
    "    optimizer:\n",
    "      name: SGD\n",
    "      kwargs:\n",
    "        lr: 0.1\n",
    "        weight_decay: 0.0005\n",
    "        momentum: 0.9\n",
    "    loss: crossentropy\n",
    "    num_workers: 4\n",
    "  \n",
    "  data:\n",
    "    name: cifar10\n",
    "    kwargs:\n",
    "      data_root_path: /system/user/beck/pwbeck/data #/local00/bioinf/beck/data #\n",
    "      n_px: 32\n",
    "\"\"\"\n",
    "cfg = OmegaConf.create(config_yaml)"
   ]
  },
  {
   "cell_type": "code",
   "execution_count": 4,
   "metadata": {},
   "outputs": [],
   "source": [
    "# run_command = REPO.create_experiment(cfg, override=False)\n",
    "# print(run_command)"
   ]
  },
  {
   "cell_type": "code",
   "execution_count": 5,
   "metadata": {},
   "outputs": [
    {
     "name": "stdout",
     "output_type": "stream",
     "text": [
      "Exp. Tag(start_num): 30-cf10-el2n(1)\n",
      "Exp. Name: cifar10-30-cf10-el2n.1-resnet18\n",
      "Training setup: finetune\n",
      "Model name: timmmodel\n",
      "Dataset name: cifar10\n",
      "Sweep type: skip\n",
      "  No sweep axes.\n",
      "Seeds: [0, 1, 2, 3, 4, 5, 6, 7, 8, 9]\n",
      "Num. jobs: 10\n",
      "Config updated: 2023-03-22 09:58:04\n",
      "Sweep started:  2023-03-22 09:58:21\n",
      "\n"
     ]
    }
   ],
   "source": [
    "sweepr = REPO.get_output_loader(cfg)\n",
    "print(sweepr)"
   ]
  },
  {
   "cell_type": "code",
   "execution_count": 6,
   "metadata": {},
   "outputs": [
    {
     "data": {
      "text/plain": [
       "PosixPath('/system/user/publicwork/beck/projects/regularization/tflearning/outputs/cifar10-30-cf10-el2n.1-resnet18--230322_095821')"
      ]
     },
     "execution_count": 6,
     "metadata": {},
     "output_type": "execute_result"
    }
   ],
   "source": [
    "sweepr.directory"
   ]
  },
  {
   "cell_type": "code",
   "execution_count": 7,
   "metadata": {},
   "outputs": [
    {
     "name": "stderr",
     "output_type": "stream",
     "text": [
      "Collecting failed jobs: 100%|██████████| 10/10 [00:00<00:00, 26.04it/s]\n"
     ]
    },
    {
     "data": {
      "text/plain": [
       "([], {})"
      ]
     },
     "execution_count": 7,
     "metadata": {},
     "output_type": "execute_result"
    }
   ],
   "source": [
    "failed_jobs = sweepr.get_failed_jobs()\n",
    "failed_jobs # No failed jobs"
   ]
  },
  {
   "cell_type": "code",
   "execution_count": 8,
   "metadata": {},
   "outputs": [
    {
     "name": "stderr",
     "output_type": "stream",
     "text": [
      "Collecting summaries: 100%|██████████| 10/10 [00:00<00:00, 22.14it/s]\n"
     ]
    }
   ],
   "source": [
    "sw_summary = sweepr.get_summary(log_source='val', col_sel='Accuracy-top-1', row_sel=('epoch', 20))"
   ]
  },
  {
   "cell_type": "code",
   "execution_count": 9,
   "metadata": {},
   "outputs": [
    {
     "data": {
      "text/html": [
       "<div>\n",
       "<style scoped>\n",
       "    .dataframe tbody tr th:only-of-type {\n",
       "        vertical-align: middle;\n",
       "    }\n",
       "\n",
       "    .dataframe tbody tr th {\n",
       "        vertical-align: top;\n",
       "    }\n",
       "\n",
       "    .dataframe thead th {\n",
       "        text-align: right;\n",
       "    }\n",
       "</style>\n",
       "<table border=\"1\" class=\"dataframe\">\n",
       "  <thead>\n",
       "    <tr style=\"text-align: right;\">\n",
       "      <th></th>\n",
       "      <th>best_epoch</th>\n",
       "      <th>best_val_score</th>\n",
       "      <th>Accuracy-top-1-epoch-20</th>\n",
       "      <th>seed</th>\n",
       "    </tr>\n",
       "  </thead>\n",
       "  <tbody>\n",
       "    <tr>\n",
       "      <th>cifar10-30-cf10-el2n.1-resnet18---seed-0--230322_095844</th>\n",
       "      <td>28</td>\n",
       "      <td>0.709097</td>\n",
       "      <td>0.7395</td>\n",
       "      <td>0</td>\n",
       "    </tr>\n",
       "    <tr>\n",
       "      <th>cifar10-30-cf10-el2n.1-resnet18---seed-1--230322_095847</th>\n",
       "      <td>27</td>\n",
       "      <td>0.728892</td>\n",
       "      <td>0.7448</td>\n",
       "      <td>1</td>\n",
       "    </tr>\n",
       "    <tr>\n",
       "      <th>cifar10-30-cf10-el2n.1-resnet18---seed-2--230322_095851</th>\n",
       "      <td>30</td>\n",
       "      <td>0.708047</td>\n",
       "      <td>0.7336</td>\n",
       "      <td>2</td>\n",
       "    </tr>\n",
       "    <tr>\n",
       "      <th>cifar10-30-cf10-el2n.1-resnet18---seed-3--230322_095853</th>\n",
       "      <td>26</td>\n",
       "      <td>0.693980</td>\n",
       "      <td>0.7409</td>\n",
       "      <td>3</td>\n",
       "    </tr>\n",
       "    <tr>\n",
       "      <th>cifar10-30-cf10-el2n.1-resnet18---seed-4--230322_095855</th>\n",
       "      <td>26</td>\n",
       "      <td>0.693217</td>\n",
       "      <td>0.7396</td>\n",
       "      <td>4</td>\n",
       "    </tr>\n",
       "    <tr>\n",
       "      <th>cifar10-30-cf10-el2n.1-resnet18---seed-5--230322_095856</th>\n",
       "      <td>27</td>\n",
       "      <td>0.658748</td>\n",
       "      <td>0.7423</td>\n",
       "      <td>5</td>\n",
       "    </tr>\n",
       "    <tr>\n",
       "      <th>cifar10-30-cf10-el2n.1-resnet18---seed-6--230322_095857</th>\n",
       "      <td>24</td>\n",
       "      <td>0.688411</td>\n",
       "      <td>0.7466</td>\n",
       "      <td>6</td>\n",
       "    </tr>\n",
       "    <tr>\n",
       "      <th>cifar10-30-cf10-el2n.1-resnet18---seed-7--230322_095858</th>\n",
       "      <td>22</td>\n",
       "      <td>0.710099</td>\n",
       "      <td>0.7242</td>\n",
       "      <td>7</td>\n",
       "    </tr>\n",
       "    <tr>\n",
       "      <th>cifar10-30-cf10-el2n.1-resnet18---seed-8--230322_100754</th>\n",
       "      <td>26</td>\n",
       "      <td>0.672588</td>\n",
       "      <td>0.7250</td>\n",
       "      <td>8</td>\n",
       "    </tr>\n",
       "    <tr>\n",
       "      <th>cifar10-30-cf10-el2n.1-resnet18---seed-9--230322_100755</th>\n",
       "      <td>29</td>\n",
       "      <td>0.660837</td>\n",
       "      <td>0.7286</td>\n",
       "      <td>9</td>\n",
       "    </tr>\n",
       "  </tbody>\n",
       "</table>\n",
       "</div>"
      ],
      "text/plain": [
       "                                                    best_epoch  \\\n",
       "cifar10-30-cf10-el2n.1-resnet18---seed-0--23032...          28   \n",
       "cifar10-30-cf10-el2n.1-resnet18---seed-1--23032...          27   \n",
       "cifar10-30-cf10-el2n.1-resnet18---seed-2--23032...          30   \n",
       "cifar10-30-cf10-el2n.1-resnet18---seed-3--23032...          26   \n",
       "cifar10-30-cf10-el2n.1-resnet18---seed-4--23032...          26   \n",
       "cifar10-30-cf10-el2n.1-resnet18---seed-5--23032...          27   \n",
       "cifar10-30-cf10-el2n.1-resnet18---seed-6--23032...          24   \n",
       "cifar10-30-cf10-el2n.1-resnet18---seed-7--23032...          22   \n",
       "cifar10-30-cf10-el2n.1-resnet18---seed-8--23032...          26   \n",
       "cifar10-30-cf10-el2n.1-resnet18---seed-9--23032...          29   \n",
       "\n",
       "                                                    best_val_score  \\\n",
       "cifar10-30-cf10-el2n.1-resnet18---seed-0--23032...        0.709097   \n",
       "cifar10-30-cf10-el2n.1-resnet18---seed-1--23032...        0.728892   \n",
       "cifar10-30-cf10-el2n.1-resnet18---seed-2--23032...        0.708047   \n",
       "cifar10-30-cf10-el2n.1-resnet18---seed-3--23032...        0.693980   \n",
       "cifar10-30-cf10-el2n.1-resnet18---seed-4--23032...        0.693217   \n",
       "cifar10-30-cf10-el2n.1-resnet18---seed-5--23032...        0.658748   \n",
       "cifar10-30-cf10-el2n.1-resnet18---seed-6--23032...        0.688411   \n",
       "cifar10-30-cf10-el2n.1-resnet18---seed-7--23032...        0.710099   \n",
       "cifar10-30-cf10-el2n.1-resnet18---seed-8--23032...        0.672588   \n",
       "cifar10-30-cf10-el2n.1-resnet18---seed-9--23032...        0.660837   \n",
       "\n",
       "                                                    Accuracy-top-1-epoch-20  \\\n",
       "cifar10-30-cf10-el2n.1-resnet18---seed-0--23032...                   0.7395   \n",
       "cifar10-30-cf10-el2n.1-resnet18---seed-1--23032...                   0.7448   \n",
       "cifar10-30-cf10-el2n.1-resnet18---seed-2--23032...                   0.7336   \n",
       "cifar10-30-cf10-el2n.1-resnet18---seed-3--23032...                   0.7409   \n",
       "cifar10-30-cf10-el2n.1-resnet18---seed-4--23032...                   0.7396   \n",
       "cifar10-30-cf10-el2n.1-resnet18---seed-5--23032...                   0.7423   \n",
       "cifar10-30-cf10-el2n.1-resnet18---seed-6--23032...                   0.7466   \n",
       "cifar10-30-cf10-el2n.1-resnet18---seed-7--23032...                   0.7242   \n",
       "cifar10-30-cf10-el2n.1-resnet18---seed-8--23032...                   0.7250   \n",
       "cifar10-30-cf10-el2n.1-resnet18---seed-9--23032...                   0.7286   \n",
       "\n",
       "                                                    seed  \n",
       "cifar10-30-cf10-el2n.1-resnet18---seed-0--23032...     0  \n",
       "cifar10-30-cf10-el2n.1-resnet18---seed-1--23032...     1  \n",
       "cifar10-30-cf10-el2n.1-resnet18---seed-2--23032...     2  \n",
       "cifar10-30-cf10-el2n.1-resnet18---seed-3--23032...     3  \n",
       "cifar10-30-cf10-el2n.1-resnet18---seed-4--23032...     4  \n",
       "cifar10-30-cf10-el2n.1-resnet18---seed-5--23032...     5  \n",
       "cifar10-30-cf10-el2n.1-resnet18---seed-6--23032...     6  \n",
       "cifar10-30-cf10-el2n.1-resnet18---seed-7--23032...     7  \n",
       "cifar10-30-cf10-el2n.1-resnet18---seed-8--23032...     8  \n",
       "cifar10-30-cf10-el2n.1-resnet18---seed-9--23032...     9  "
      ]
     },
     "execution_count": 9,
     "metadata": {},
     "output_type": "execute_result"
    }
   ],
   "source": [
    "sw_summary"
   ]
  },
  {
   "attachments": {},
   "cell_type": "markdown",
   "metadata": {},
   "source": [
    "### EL2N Scores for CIFAR10 at after epoch 20"
   ]
  },
  {
   "cell_type": "code",
   "execution_count": 10,
   "metadata": {},
   "outputs": [
    {
     "name": "stdout",
     "output_type": "stream",
     "text": [
      "Files already downloaded and verified\n",
      "Files already downloaded and verified\n"
     ]
    }
   ],
   "source": [
    "score_computer = El2nAndGrandScores(sweepr, compute_at_progress_idx=20, compute_grand=False)"
   ]
  },
  {
   "cell_type": "code",
   "execution_count": 12,
   "metadata": {},
   "outputs": [],
   "source": [
    "# scores = score_computer.compute()"
   ]
  },
  {
   "cell_type": "code",
   "execution_count": 13,
   "metadata": {},
   "outputs": [],
   "source": [
    "def load_dict(path):\n",
    "    with open(path, 'rb') as f:\n",
    "        d = pickle.load(f)\n",
    "    return d"
   ]
  },
  {
   "cell_type": "code",
   "execution_count": 14,
   "metadata": {},
   "outputs": [
    {
     "data": {
      "text/plain": [
       "PosixPath('/system/user/publicwork/beck/projects/regularization/tflearning/outputs/cifar10-30-cf10-el2n.1-resnet18--230322_095821/el2n_grand_scores_230322_215521.p')"
      ]
     },
     "execution_count": 14,
     "metadata": {},
     "output_type": "execute_result"
    }
   ],
   "source": [
    "sweepr.directory / 'el2n_grand_scores_230322_215521.p'"
   ]
  },
  {
   "cell_type": "code",
   "execution_count": 15,
   "metadata": {},
   "outputs": [],
   "source": [
    "el2n_grand_scores = load_dict(sweepr.directory / 'el2n_grand_scores_230322_215521.p')"
   ]
  },
  {
   "cell_type": "code",
   "execution_count": null,
   "metadata": {},
   "outputs": [
    {
     "data": {
      "text/plain": [
       "(array([3.397e+03, 2.712e+03, 2.432e+03, 2.066e+03, 1.952e+03, 1.813e+03,\n",
       "        1.736e+03, 1.582e+03, 1.546e+03, 1.526e+03, 1.442e+03, 1.409e+03,\n",
       "        1.351e+03, 1.262e+03, 1.244e+03, 1.212e+03, 1.206e+03, 1.228e+03,\n",
       "        1.157e+03, 1.114e+03, 1.139e+03, 1.061e+03, 1.042e+03, 1.047e+03,\n",
       "        9.560e+02, 9.610e+02, 9.460e+02, 9.180e+02, 8.480e+02, 8.320e+02,\n",
       "        7.980e+02, 7.990e+02, 7.210e+02, 6.850e+02, 6.220e+02, 6.080e+02,\n",
       "        5.650e+02, 4.630e+02, 4.170e+02, 3.760e+02, 2.650e+02, 1.960e+02,\n",
       "        1.320e+02, 9.700e+01, 4.700e+01, 3.500e+01, 2.000e+01, 8.000e+00,\n",
       "        7.000e+00, 2.000e+00]),\n",
       " array([1.18800184e-04, 2.83297580e-02, 5.65407164e-02, 8.47516730e-02,\n",
       "        1.12962633e-01, 1.41173586e-01, 1.69384554e-01, 1.97595507e-01,\n",
       "        2.25806460e-01, 2.54017413e-01, 2.82228380e-01, 3.10439348e-01,\n",
       "        3.38650286e-01, 3.66861254e-01, 3.95072222e-01, 4.23283160e-01,\n",
       "        4.51494128e-01, 4.79705095e-01, 5.07916033e-01, 5.36127031e-01,\n",
       "        5.64337969e-01, 5.92548907e-01, 6.20759904e-01, 6.48970842e-01,\n",
       "        6.77181780e-01, 7.05392778e-01, 7.33603716e-01, 7.61814654e-01,\n",
       "        7.90025651e-01, 8.18236589e-01, 8.46447527e-01, 8.74658525e-01,\n",
       "        9.02869463e-01, 9.31080401e-01, 9.59291399e-01, 9.87502337e-01,\n",
       "        1.01571333e+00, 1.04392421e+00, 1.07213521e+00, 1.10034621e+00,\n",
       "        1.12855709e+00, 1.15676808e+00, 1.18497908e+00, 1.21318996e+00,\n",
       "        1.24140096e+00, 1.26961195e+00, 1.29782283e+00, 1.32603383e+00,\n",
       "        1.35424483e+00, 1.38245571e+00, 1.41066670e+00], dtype=float32),\n",
       " <BarContainer object of 50 artists>)"
      ]
     },
     "execution_count": 16,
     "metadata": {},
     "output_type": "execute_result"
    },
    {
     "data": {
      "image/png": "[encoded data removed]",
      "text/plain": [
       "<Figure size 640x480 with 1 Axes>"
      ]
     },
     "metadata": {},
     "output_type": "display_data"
    }
   ],
   "source": [
    "plt.hist(el2n_grand_scores['el2n']['average'], bins=50)"
   ]
  },
  {
   "cell_type": "code",
   "execution_count": null,
   "metadata": {},
   "outputs": [
    {
     "data": {
      "text/plain": [
       "<matplotlib.legend.Legend at 0x7feda19b85e0>"
      ]
     },
     "execution_count": 17,
     "metadata": {},
     "output_type": "execute_result"
    },
    {
     "data": {
      "image/png": "[encoded data removed]",
      "text/plain": [
       "<Figure size 640x480 with 1 Axes>"
      ]
     },
     "metadata": {},
     "output_type": "display_data"
    }
   ],
   "source": [
    "for i, score in enumerate(el2n_grand_scores['el2n']['single_runs'].values()):\n",
    "    f = plt.hist(score, bins=50, label=f'model [{i}]', alpha=0.2)\n",
    "\n",
    "plt.legend()"
   ]
  },
  {
   "attachments": {},
   "cell_type": "markdown",
   "metadata": {},
   "source": [
    "## GraNd scores"
   ]
  },
  {
   "cell_type": "code",
   "execution_count": null,
   "metadata": {},
   "outputs": [
    {
     "data": {
      "text/plain": [
       "(array([1.000e+00, 1.000e+00, 2.000e+00, 0.000e+00, 1.100e+01, 1.900e+01,\n",
       "        2.300e+01, 4.300e+01, 6.900e+01, 1.520e+02, 1.880e+02, 2.980e+02,\n",
       "        3.810e+02, 5.670e+02, 7.640e+02, 9.500e+02, 1.180e+03, 1.477e+03,\n",
       "        1.778e+03, 1.976e+03, 2.365e+03, 2.629e+03, 2.879e+03, 2.976e+03,\n",
       "        2.994e+03, 2.927e+03, 2.918e+03, 2.616e+03, 2.372e+03, 2.147e+03,\n",
       "        1.884e+03, 1.647e+03, 1.473e+03, 1.276e+03, 1.038e+03, 9.750e+02,\n",
       "        8.570e+02, 7.190e+02, 6.400e+02, 6.080e+02, 5.490e+02, 4.370e+02,\n",
       "        4.300e+02, 3.290e+02, 2.280e+02, 1.120e+02, 6.600e+01, 2.100e+01,\n",
       "        6.000e+00, 2.000e+00]),\n",
       " array([1.97725612, 2.07635302, 2.17544992, 2.27454682, 2.37364372,\n",
       "        2.47274062, 2.57183752, 2.67093442, 2.77003132, 2.86912822,\n",
       "        2.96822512, 3.06732202, 3.16641892, 3.26551582, 3.36461272,\n",
       "        3.46370962, 3.56280652, 3.66190341, 3.76100031, 3.86009721,\n",
       "        3.95919411, 4.05829101, 4.15738791, 4.25648481, 4.35558171,\n",
       "        4.45467861, 4.55377551, 4.65287241, 4.75196931, 4.85106621,\n",
       "        4.95016311, 5.04926001, 5.14835691, 5.24745381, 5.34655071,\n",
       "        5.44564761, 5.54474451, 5.64384141, 5.74293831, 5.84203521,\n",
       "        5.94113211, 6.04022901, 6.13932591, 6.23842281, 6.33751971,\n",
       "        6.43661661, 6.53571351, 6.63481041, 6.73390731, 6.83300421,\n",
       "        6.93210111]),\n",
       " <BarContainer object of 50 artists>)"
      ]
     },
     "execution_count": 11,
     "metadata": {},
     "output_type": "execute_result"
    },
    {
     "data": {
      "image/png": "[encoded data removed]",
      "text/plain": [
       "<Figure size 640x480 with 1 Axes>"
      ]
     },
     "metadata": {},
     "output_type": "display_data"
    }
   ],
   "source": [
    "plt.hist(el2n_grand_scores['grand']['average'], bins=50)"
   ]
  },
  {
   "cell_type": "code",
   "execution_count": null,
   "metadata": {},
   "outputs": [
    {
     "data": {
      "text/plain": [
       "<matplotlib.legend.Legend at 0x7fee5f15f760>"
      ]
     },
     "execution_count": 13,
     "metadata": {},
     "output_type": "execute_result"
    },
    {
     "data": {
      "image/png": "[encoded data removed]",
      "text/plain": [
       "<Figure size 640x480 with 1 Axes>"
      ]
     },
     "metadata": {},
     "output_type": "display_data"
    }
   ],
   "source": [
    "for i, score in enumerate(el2n_grand_scores['grand']['single_runs'].values()):\n",
    "    f = plt.hist(score, bins=50, label=f'model [{i}]', alpha=0.2)\n",
    "\n",
    "plt.legend()"
   ]
  },
  {
   "cell_type": "code",
   "execution_count": null,
   "metadata": {},
   "outputs": [],
   "source": []
  }
 ],
 "metadata": {
  "kernelspec": {
   "display_name": "Python 3.10.4 ('subspaces')",
   "language": "python",
   "name": "python3"
  },
  "language_info": {
   "codemirror_mode": {
    "name": "ipython",
    "version": 3
   },
   "file_extension": ".py",
   "mimetype": "text/x-python",
   "name": "python",
   "nbconvert_exporter": "python",
   "pygments_lexer": "ipython3",
   "version": "3.10.4"
  },
  "orig_nbformat": 4,
  "vscode": {
   "interpreter": {
    "hash": "ac019f01eb2a0970f066d5e193a84f30bb43215eeeface9d3d8db32241c79700"
   }
  }
 },
 "nbformat": 4,
 "nbformat_minor": 2
}
