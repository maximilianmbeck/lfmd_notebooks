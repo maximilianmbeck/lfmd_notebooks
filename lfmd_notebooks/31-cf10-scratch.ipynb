{
 "cells": [
  {
   "cell_type": "code",
   "execution_count": 2,
   "metadata": {},
   "outputs": [],
   "source": [
    "%load_ext autoreload\n",
    "%autoreload 2\n",
    "import torch\n",
    "import numpy as np\n",
    "import pandas as pd\n",
    "from omegaconf import OmegaConf\n",
    "from pathlib import Path\n",
    "from pprint import pprint\n",
    "# plotting\n",
    "import matplotlib.pyplot as plt\n",
    "import matplotlib as mpl\n",
    "import seaborn as sns\n",
    "# mycode\n",
    "from repo import REPO\n",
    "from ml_utilities.output_loader.result_loader import SweepResult, JobResult\n",
    "from ml_utilities.output_loader import create_job_output_loader\n",
    "from ml_utilities.output_loader.plot import plot_sweep_summary, plot_data_log_values\n",
    "import tflearning\n",
    "from tflearning.sample_difficulty.el2n_grand_scores import El2nAndGrandScores"
   ]
  },
  {
   "attachments": {},
   "cell_type": "markdown",
   "metadata": {},
   "source": [
    "# 31 CIFAR10 scratch for prediction depth computation\n",
    "\n",
    "Train a resnet18 on cifar 10 from scratch in order to compute in-distribution Prediction depth entropies."
   ]
  },
  {
   "attachments": {},
   "cell_type": "markdown",
   "metadata": {},
   "source": [
    "## A. Resnet18"
   ]
  },
  {
   "cell_type": "markdown",
   "metadata": {},
   "source": [
    "### Config file"
   ]
  },
  {
   "cell_type": "code",
   "execution_count": 3,
   "metadata": {},
   "outputs": [],
   "source": [
    "config_yaml = \"\"\"\n",
    "run_config:\n",
    "  exec_type: parallel\n",
    "  hostname: scorpion\n",
    "  gpu_ids: [1,2,3]\n",
    "  runs_per_gpu: 1\n",
    "  wandb:\n",
    "    init:\n",
    "      tags:\n",
    "      - ${config.experiment_data.experiment_tag}_exps\n",
    "      - run_handler\n",
    "      notes: null\n",
    "      group: ${config.experiment_data.experiment_tag}\n",
    "      job_type: run_handler\n",
    "\n",
    "seeds: [0,1,2]\n",
    "\n",
    "sweep:\n",
    "  type: skip\n",
    "  axes: \n",
    "\n",
    "    \n",
    "start_num: 0\n",
    "\n",
    "config:\n",
    "  experiment_data:\n",
    "    entity: fslgroup\n",
    "    project_name: tflearning\n",
    "    experiment_tag: '31-cf10-scratch'\n",
    "    experiment_type: startnum_${start_num}\n",
    "    experiment_name: cifar10-${config.experiment_data.experiment_tag}.${start_num}-resnet18-scratch\n",
    "    experiment_dir: null\n",
    "    experiment_notes: \n",
    "    seed: 0\n",
    "    gpu_id: 0\n",
    "  \n",
    "  model:\n",
    "    name: timmmodel\n",
    "    kwargs:\n",
    "      name: resnet18\n",
    "      timm_kwargs:\n",
    "        pretrained: False\n",
    "  \n",
    "  trainer:\n",
    "    training_setup: finetune\n",
    "    n_epochs: 200\n",
    "    save_every: 20\n",
    "    val_every: 1\n",
    "    early_stopping_patience: 200\n",
    "    batch_size: 128\n",
    "    optimizer:\n",
    "      name: SGD\n",
    "      kwargs:\n",
    "        lr: 0.1\n",
    "        weight_decay: 0.0005\n",
    "        momentum: 0.9\n",
    "    lr_scheduler: \n",
    "      name: MultiStepLR\n",
    "      kwargs:\n",
    "        milestones: [60, 120, 160]\n",
    "        gamma: 0.2\n",
    "    loss: crossentropy\n",
    "    num_workers: 4\n",
    "  \n",
    "  data:\n",
    "    name: cifar10\n",
    "    kwargs:\n",
    "      data_root_path: /system/user/beck/pwbeck/data #/local00/bioinf/beck/data #\n",
    "      n_px: 32\n",
    "\"\"\"\n",
    "cfg = OmegaConf.create(config_yaml)"
   ]
  },
  {
   "cell_type": "code",
   "execution_count": 4,
   "metadata": {},
   "outputs": [],
   "source": [
    "# run_command = REPO.create_experiment(cfg, override=False)\n",
    "# print(run_command)"
   ]
  },
  {
   "cell_type": "code",
   "execution_count": 5,
   "metadata": {},
   "outputs": [
    {
     "name": "stdout",
     "output_type": "stream",
     "text": [
      "Exp. Tag(start_num): 31-cf10-scratch(0)\n",
      "Exp. Name: cifar10-31-cf10-scratch.0-resnet18-scratch\n",
      "Training setup: finetune\n",
      "Model name: timmmodel\n",
      "Dataset name: cifar10\n",
      "Sweep type: skip\n",
      "  No sweep axes.\n",
      "Seeds: [0, 1, 2]\n",
      "Num. jobs: 3\n",
      "Config updated: 2023-03-22 15:54:28\n",
      "Sweep started:  2023-03-22 15:55:34\n",
      "\n"
     ]
    }
   ],
   "source": [
    "sweepr = REPO.get_output_loader(cfg)\n",
    "print(sweepr)"
   ]
  },
  {
   "cell_type": "code",
   "execution_count": null,
   "metadata": {},
   "outputs": [],
   "source": []
  },
  {
   "attachments": {},
   "cell_type": "markdown",
   "metadata": {},
   "source": [
    "## A. Resnet20"
   ]
  },
  {
   "cell_type": "markdown",
   "metadata": {},
   "source": [
    "### Config file"
   ]
  },
  {
   "cell_type": "code",
   "execution_count": 6,
   "metadata": {},
   "outputs": [],
   "source": [
    "config_yaml = \"\"\"\n",
    "run_config:\n",
    "  exec_type: parallel\n",
    "  hostname: scorpion\n",
    "  gpu_ids: [1,2,3]\n",
    "  runs_per_gpu: 1\n",
    "  wandb:\n",
    "    init:\n",
    "      tags:\n",
    "      - ${config.experiment_data.experiment_tag}_exps\n",
    "      - run_handler\n",
    "      notes: null\n",
    "      group: ${config.experiment_data.experiment_tag}\n",
    "      job_type: run_handler\n",
    "\n",
    "seeds: [0,1,2]\n",
    "\n",
    "sweep:\n",
    "  type: skip\n",
    "  axes: \n",
    "\n",
    "    \n",
    "start_num: 2\n",
    "\n",
    "config:\n",
    "  experiment_data:\n",
    "    entity: fslgroup\n",
    "    project_name: tflearning\n",
    "    experiment_tag: '31-cf10-scratch'\n",
    "    experiment_type: startnum_${start_num}\n",
    "    experiment_name: cifar10-${config.experiment_data.experiment_tag}.${start_num}-resnet20-scratch\n",
    "    experiment_dir: null\n",
    "    experiment_notes: \n",
    "    seed: 0\n",
    "    gpu_id: 0\n",
    "  \n",
    "  model:\n",
    "    model_cfg: resnet20-cifar10-B\n",
    "  \n",
    "  trainer:\n",
    "    training_setup: finetune\n",
    "    n_epochs: 200\n",
    "    save_every: 20\n",
    "    val_every: 1\n",
    "    early_stopping_patience: 200\n",
    "    batch_size: 128\n",
    "    optimizer:\n",
    "      name: SGD\n",
    "      kwargs:\n",
    "        lr: 0.1\n",
    "        weight_decay: 0.0005\n",
    "        momentum: 0.9\n",
    "    lr_scheduler: \n",
    "      name: MultiStepLR\n",
    "      kwargs:\n",
    "        milestones: [60, 120, 160]\n",
    "        gamma: 0.2\n",
    "    loss: crossentropy\n",
    "    num_workers: 4\n",
    "  \n",
    "  data:\n",
    "    name: cifar10\n",
    "    kwargs:\n",
    "      data_root_path: /system/user/beck/pwbeck/data #/local00/bioinf/beck/data #\n",
    "      n_px: 32\n",
    "\"\"\"\n",
    "cfg = OmegaConf.create(config_yaml)"
   ]
  },
  {
   "cell_type": "code",
   "execution_count": 7,
   "metadata": {},
   "outputs": [],
   "source": [
    "# run_command = REPO.create_experiment(cfg, override=False)\n",
    "# print(run_command)"
   ]
  },
  {
   "cell_type": "code",
   "execution_count": 8,
   "metadata": {},
   "outputs": [
    {
     "name": "stdout",
     "output_type": "stream",
     "text": [
      "Exp. Tag(start_num): 31-cf10-scratch(2)\n",
      "Exp. Name: cifar10-31-cf10-scratch.2-resnet20-scratch\n",
      "Training setup: finetune\n",
      "Model name: resnet20-cifar10-B\n",
      "Dataset name: cifar10\n",
      "Sweep type: skip\n",
      "  No sweep axes.\n",
      "Seeds: [0, 1, 2]\n",
      "Num. jobs: 3\n",
      "Config updated: 2023-03-23 07:52:38\n",
      "Sweep started:  2023-03-23 07:53:26\n",
      "\n"
     ]
    }
   ],
   "source": [
    "sweepr = REPO.get_output_loader(cfg)\n",
    "print(sweepr)"
   ]
  },
  {
   "cell_type": "code",
   "execution_count": 10,
   "metadata": {},
   "outputs": [
    {
     "name": "stderr",
     "output_type": "stream",
     "text": [
      "Collecting summaries: 100%|██████████| 3/3 [00:00<00:00, 23.07it/s]\n"
     ]
    },
    {
     "data": {
      "text/html": [
       "<div>\n",
       "<style scoped>\n",
       "    .dataframe tbody tr th:only-of-type {\n",
       "        vertical-align: middle;\n",
       "    }\n",
       "\n",
       "    .dataframe tbody tr th {\n",
       "        vertical-align: top;\n",
       "    }\n",
       "\n",
       "    .dataframe thead th {\n",
       "        text-align: right;\n",
       "    }\n",
       "</style>\n",
       "<table border=\"1\" class=\"dataframe\">\n",
       "  <thead>\n",
       "    <tr style=\"text-align: right;\">\n",
       "      <th></th>\n",
       "      <th>best_epoch</th>\n",
       "      <th>best_val_score</th>\n",
       "      <th>Accuracy-top-1-epoch-200</th>\n",
       "      <th>seed</th>\n",
       "    </tr>\n",
       "  </thead>\n",
       "  <tbody>\n",
       "    <tr>\n",
       "      <th>cifar10-31-cf10-scratch.2-resnet20-scratch---seed-0--230323_075346</th>\n",
       "      <td>122</td>\n",
       "      <td>0.242659</td>\n",
       "      <td>0.9256</td>\n",
       "      <td>0</td>\n",
       "    </tr>\n",
       "    <tr>\n",
       "      <th>cifar10-31-cf10-scratch.2-resnet20-scratch---seed-1--230323_075346</th>\n",
       "      <td>123</td>\n",
       "      <td>0.252011</td>\n",
       "      <td>0.9202</td>\n",
       "      <td>1</td>\n",
       "    </tr>\n",
       "    <tr>\n",
       "      <th>cifar10-31-cf10-scratch.2-resnet20-scratch---seed-2--230323_075348</th>\n",
       "      <td>123</td>\n",
       "      <td>0.247617</td>\n",
       "      <td>0.9225</td>\n",
       "      <td>2</td>\n",
       "    </tr>\n",
       "  </tbody>\n",
       "</table>\n",
       "</div>"
      ],
      "text/plain": [
       "                                                    best_epoch  \\\n",
       "cifar10-31-cf10-scratch.2-resnet20-scratch---se...         122   \n",
       "cifar10-31-cf10-scratch.2-resnet20-scratch---se...         123   \n",
       "cifar10-31-cf10-scratch.2-resnet20-scratch---se...         123   \n",
       "\n",
       "                                                    best_val_score  \\\n",
       "cifar10-31-cf10-scratch.2-resnet20-scratch---se...        0.242659   \n",
       "cifar10-31-cf10-scratch.2-resnet20-scratch---se...        0.252011   \n",
       "cifar10-31-cf10-scratch.2-resnet20-scratch---se...        0.247617   \n",
       "\n",
       "                                                    Accuracy-top-1-epoch-200  \\\n",
       "cifar10-31-cf10-scratch.2-resnet20-scratch---se...                    0.9256   \n",
       "cifar10-31-cf10-scratch.2-resnet20-scratch---se...                    0.9202   \n",
       "cifar10-31-cf10-scratch.2-resnet20-scratch---se...                    0.9225   \n",
       "\n",
       "                                                    seed  \n",
       "cifar10-31-cf10-scratch.2-resnet20-scratch---se...     0  \n",
       "cifar10-31-cf10-scratch.2-resnet20-scratch---se...     1  \n",
       "cifar10-31-cf10-scratch.2-resnet20-scratch---se...     2  "
      ]
     },
     "execution_count": 10,
     "metadata": {},
     "output_type": "execute_result"
    }
   ],
   "source": [
    "ft_epoch = 200\n",
    "ft_row_sel = ('epoch', ft_epoch)\n",
    "ft_col_sel = 'Accuracy-top-1'\n",
    "sweepr.get_summary(log_source='val', row_sel=ft_row_sel, col_sel=ft_col_sel)"
   ]
  },
  {
   "cell_type": "code",
   "execution_count": 8,
   "metadata": {},
   "outputs": [],
   "source": [
    "job = sweepr.get_jobs()[0]"
   ]
  },
  {
   "cell_type": "code",
   "execution_count": 10,
   "metadata": {},
   "outputs": [],
   "source": [
    "m = job.get_model_idx(200)"
   ]
  },
  {
   "cell_type": "code",
   "execution_count": 12,
   "metadata": {},
   "outputs": [
    {
     "data": {
      "text/plain": [
       "Resnet(\n",
       "  (resnet): Sequential(\n",
       "    (0): Sequential(\n",
       "      (0): Conv2d(3, 16, kernel_size=(3, 3), stride=(1, 1), padding=(1, 1), bias=False)\n",
       "      (1): BatchNorm2d(16, eps=1e-05, momentum=0.1, affine=True, track_running_stats=True)\n",
       "      (2): ReLU(inplace=True)\n",
       "    )\n",
       "    (1): Sequential(\n",
       "      (0): Sequential(\n",
       "        (0): _ResidualBlock(\n",
       "          (conv1): Conv2d(16, 16, kernel_size=(3, 3), stride=(1, 1), padding=(1, 1), bias=False)\n",
       "          (conv2): Conv2d(16, 16, kernel_size=(3, 3), stride=(1, 1), padding=(1, 1), bias=False)\n",
       "          (skip_connect): Identity()\n",
       "          (bn1): BatchNorm2d(16, eps=1e-05, momentum=0.1, affine=True, track_running_stats=True)\n",
       "          (bn2): BatchNorm2d(16, eps=1e-05, momentum=0.1, affine=True, track_running_stats=True)\n",
       "          (act1): ReLU(inplace=True)\n",
       "          (act2): ReLU(inplace=True)\n",
       "        )\n",
       "        (1): _ResidualBlock(\n",
       "          (conv1): Conv2d(16, 16, kernel_size=(3, 3), stride=(1, 1), padding=(1, 1), bias=False)\n",
       "          (conv2): Conv2d(16, 16, kernel_size=(3, 3), stride=(1, 1), padding=(1, 1), bias=False)\n",
       "          (skip_connect): Identity()\n",
       "          (bn1): BatchNorm2d(16, eps=1e-05, momentum=0.1, affine=True, track_running_stats=True)\n",
       "          (bn2): BatchNorm2d(16, eps=1e-05, momentum=0.1, affine=True, track_running_stats=True)\n",
       "          (act1): ReLU(inplace=True)\n",
       "          (act2): ReLU(inplace=True)\n",
       "        )\n",
       "        (2): _ResidualBlock(\n",
       "          (conv1): Conv2d(16, 16, kernel_size=(3, 3), stride=(1, 1), padding=(1, 1), bias=False)\n",
       "          (conv2): Conv2d(16, 16, kernel_size=(3, 3), stride=(1, 1), padding=(1, 1), bias=False)\n",
       "          (skip_connect): Identity()\n",
       "          (bn1): BatchNorm2d(16, eps=1e-05, momentum=0.1, affine=True, track_running_stats=True)\n",
       "          (bn2): BatchNorm2d(16, eps=1e-05, momentum=0.1, affine=True, track_running_stats=True)\n",
       "          (act1): ReLU(inplace=True)\n",
       "          (act2): ReLU(inplace=True)\n",
       "        )\n",
       "      )\n",
       "      (1): Sequential(\n",
       "        (0): _ResidualBlock(\n",
       "          (conv1): Conv2d(16, 32, kernel_size=(3, 3), stride=(2, 2), padding=(1, 1), bias=False)\n",
       "          (conv2): Conv2d(32, 32, kernel_size=(3, 3), stride=(1, 1), padding=(1, 1), bias=False)\n",
       "          (skip_connect): Sequential(\n",
       "            (0): Conv2d(16, 32, kernel_size=(1, 1), stride=(2, 2), bias=False)\n",
       "            (1): BatchNorm2d(32, eps=1e-05, momentum=0.1, affine=True, track_running_stats=True)\n",
       "          )\n",
       "          (bn1): BatchNorm2d(32, eps=1e-05, momentum=0.1, affine=True, track_running_stats=True)\n",
       "          (bn2): BatchNorm2d(32, eps=1e-05, momentum=0.1, affine=True, track_running_stats=True)\n",
       "          (act1): ReLU(inplace=True)\n",
       "          (act2): ReLU(inplace=True)\n",
       "        )\n",
       "        (1): _ResidualBlock(\n",
       "          (conv1): Conv2d(32, 32, kernel_size=(3, 3), stride=(1, 1), padding=(1, 1), bias=False)\n",
       "          (conv2): Conv2d(32, 32, kernel_size=(3, 3), stride=(1, 1), padding=(1, 1), bias=False)\n",
       "          (skip_connect): Identity()\n",
       "          (bn1): BatchNorm2d(32, eps=1e-05, momentum=0.1, affine=True, track_running_stats=True)\n",
       "          (bn2): BatchNorm2d(32, eps=1e-05, momentum=0.1, affine=True, track_running_stats=True)\n",
       "          (act1): ReLU(inplace=True)\n",
       "          (act2): ReLU(inplace=True)\n",
       "        )\n",
       "        (2): _ResidualBlock(\n",
       "          (conv1): Conv2d(32, 32, kernel_size=(3, 3), stride=(1, 1), padding=(1, 1), bias=False)\n",
       "          (conv2): Conv2d(32, 32, kernel_size=(3, 3), stride=(1, 1), padding=(1, 1), bias=False)\n",
       "          (skip_connect): Identity()\n",
       "          (bn1): BatchNorm2d(32, eps=1e-05, momentum=0.1, affine=True, track_running_stats=True)\n",
       "          (bn2): BatchNorm2d(32, eps=1e-05, momentum=0.1, affine=True, track_running_stats=True)\n",
       "          (act1): ReLU(inplace=True)\n",
       "          (act2): ReLU(inplace=True)\n",
       "        )\n",
       "      )\n",
       "      (2): Sequential(\n",
       "        (0): _ResidualBlock(\n",
       "          (conv1): Conv2d(32, 64, kernel_size=(3, 3), stride=(2, 2), padding=(1, 1), bias=False)\n",
       "          (conv2): Conv2d(64, 64, kernel_size=(3, 3), stride=(1, 1), padding=(1, 1), bias=False)\n",
       "          (skip_connect): Sequential(\n",
       "            (0): Conv2d(32, 64, kernel_size=(1, 1), stride=(2, 2), bias=False)\n",
       "            (1): BatchNorm2d(64, eps=1e-05, momentum=0.1, affine=True, track_running_stats=True)\n",
       "          )\n",
       "          (bn1): BatchNorm2d(64, eps=1e-05, momentum=0.1, affine=True, track_running_stats=True)\n",
       "          (bn2): BatchNorm2d(64, eps=1e-05, momentum=0.1, affine=True, track_running_stats=True)\n",
       "          (act1): ReLU(inplace=True)\n",
       "          (act2): ReLU(inplace=True)\n",
       "        )\n",
       "        (1): _ResidualBlock(\n",
       "          (conv1): Conv2d(64, 64, kernel_size=(3, 3), stride=(1, 1), padding=(1, 1), bias=False)\n",
       "          (conv2): Conv2d(64, 64, kernel_size=(3, 3), stride=(1, 1), padding=(1, 1), bias=False)\n",
       "          (skip_connect): Identity()\n",
       "          (bn1): BatchNorm2d(64, eps=1e-05, momentum=0.1, affine=True, track_running_stats=True)\n",
       "          (bn2): BatchNorm2d(64, eps=1e-05, momentum=0.1, affine=True, track_running_stats=True)\n",
       "          (act1): ReLU(inplace=True)\n",
       "          (act2): ReLU(inplace=True)\n",
       "        )\n",
       "        (2): _ResidualBlock(\n",
       "          (conv1): Conv2d(64, 64, kernel_size=(3, 3), stride=(1, 1), padding=(1, 1), bias=False)\n",
       "          (conv2): Conv2d(64, 64, kernel_size=(3, 3), stride=(1, 1), padding=(1, 1), bias=False)\n",
       "          (skip_connect): Identity()\n",
       "          (bn1): BatchNorm2d(64, eps=1e-05, momentum=0.1, affine=True, track_running_stats=True)\n",
       "          (bn2): BatchNorm2d(64, eps=1e-05, momentum=0.1, affine=True, track_running_stats=True)\n",
       "          (act1): ReLU(inplace=True)\n",
       "          (act2): ReLU(inplace=True)\n",
       "        )\n",
       "      )\n",
       "    )\n",
       "    (2): AdaptiveAvgPool2d(output_size=(1, 1))\n",
       "    (3): Sequential(\n",
       "      (0): Flatten(start_dim=1, end_dim=-1)\n",
       "      (1): Linear(in_features=64, out_features=10, bias=True)\n",
       "    )\n",
       "  )\n",
       ")"
      ]
     },
     "execution_count": 12,
     "metadata": {},
     "output_type": "execute_result"
    }
   ],
   "source": [
    "m"
   ]
  },
  {
   "cell_type": "code",
   "execution_count": 11,
   "metadata": {},
   "outputs": [
    {
     "name": "stdout",
     "output_type": "stream",
     "text": [
      "\n",
      "resnet\n",
      "resnet.0\n",
      "resnet.0.0\n",
      "resnet.0.1\n",
      "resnet.0.2\n",
      "resnet.1\n",
      "resnet.1.0\n",
      "resnet.1.0.0\n",
      "resnet.1.0.0.conv1\n",
      "resnet.1.0.0.conv2\n",
      "resnet.1.0.0.skip_connect\n",
      "resnet.1.0.0.bn1\n",
      "resnet.1.0.0.bn2\n",
      "resnet.1.0.0.act1\n",
      "resnet.1.0.0.act2\n",
      "resnet.1.0.1\n",
      "resnet.1.0.1.conv1\n",
      "resnet.1.0.1.conv2\n",
      "resnet.1.0.1.skip_connect\n",
      "resnet.1.0.1.bn1\n",
      "resnet.1.0.1.bn2\n",
      "resnet.1.0.1.act1\n",
      "resnet.1.0.1.act2\n",
      "resnet.1.0.2\n",
      "resnet.1.0.2.conv1\n",
      "resnet.1.0.2.conv2\n",
      "resnet.1.0.2.skip_connect\n",
      "resnet.1.0.2.bn1\n",
      "resnet.1.0.2.bn2\n",
      "resnet.1.0.2.act1\n",
      "resnet.1.0.2.act2\n",
      "resnet.1.1\n",
      "resnet.1.1.0\n",
      "resnet.1.1.0.conv1\n",
      "resnet.1.1.0.conv2\n",
      "resnet.1.1.0.skip_connect\n",
      "resnet.1.1.0.skip_connect.0\n",
      "resnet.1.1.0.skip_connect.1\n",
      "resnet.1.1.0.bn1\n",
      "resnet.1.1.0.bn2\n",
      "resnet.1.1.0.act1\n",
      "resnet.1.1.0.act2\n",
      "resnet.1.1.1\n",
      "resnet.1.1.1.conv1\n",
      "resnet.1.1.1.conv2\n",
      "resnet.1.1.1.skip_connect\n",
      "resnet.1.1.1.bn1\n",
      "resnet.1.1.1.bn2\n",
      "resnet.1.1.1.act1\n",
      "resnet.1.1.1.act2\n",
      "resnet.1.1.2\n",
      "resnet.1.1.2.conv1\n",
      "resnet.1.1.2.conv2\n",
      "resnet.1.1.2.skip_connect\n",
      "resnet.1.1.2.bn1\n",
      "resnet.1.1.2.bn2\n",
      "resnet.1.1.2.act1\n",
      "resnet.1.1.2.act2\n",
      "resnet.1.2\n",
      "resnet.1.2.0\n",
      "resnet.1.2.0.conv1\n",
      "resnet.1.2.0.conv2\n",
      "resnet.1.2.0.skip_connect\n",
      "resnet.1.2.0.skip_connect.0\n",
      "resnet.1.2.0.skip_connect.1\n",
      "resnet.1.2.0.bn1\n",
      "resnet.1.2.0.bn2\n",
      "resnet.1.2.0.act1\n",
      "resnet.1.2.0.act2\n",
      "resnet.1.2.1\n",
      "resnet.1.2.1.conv1\n",
      "resnet.1.2.1.conv2\n",
      "resnet.1.2.1.skip_connect\n",
      "resnet.1.2.1.bn1\n",
      "resnet.1.2.1.bn2\n",
      "resnet.1.2.1.act1\n",
      "resnet.1.2.1.act2\n",
      "resnet.1.2.2\n",
      "resnet.1.2.2.conv1\n",
      "resnet.1.2.2.conv2\n",
      "resnet.1.2.2.skip_connect\n",
      "resnet.1.2.2.bn1\n",
      "resnet.1.2.2.bn2\n",
      "resnet.1.2.2.act1\n",
      "resnet.1.2.2.act2\n",
      "resnet.2\n",
      "resnet.3\n",
      "resnet.3.0\n",
      "resnet.3.1\n"
     ]
    }
   ],
   "source": [
    "for name, module in m.named_modules():\n",
    "    print(name)"
   ]
  },
  {
   "cell_type": "code",
   "execution_count": 14,
   "metadata": {},
   "outputs": [],
   "source": [
    "from tflearning.sample_difficulty.prediction_depth import PredictionDepth, find_layer_names"
   ]
  },
  {
   "cell_type": "code",
   "execution_count": 15,
   "metadata": {},
   "outputs": [
    {
     "data": {
      "text/plain": [
       "['resnet.1.0.0.act2',\n",
       " 'resnet.1.0.1.act2',\n",
       " 'resnet.1.0.2.act2',\n",
       " 'resnet.1.1.0.act2',\n",
       " 'resnet.1.1.1.act2',\n",
       " 'resnet.1.1.2.act2',\n",
       " 'resnet.1.2.0.act2',\n",
       " 'resnet.1.2.1.act2',\n",
       " 'resnet.1.2.2.act2']"
      ]
     },
     "execution_count": 15,
     "metadata": {},
     "output_type": "execute_result"
    }
   ],
   "source": [
    "find_layer_names(m, 'act2') # and resnet.0.2"
   ]
  },
  {
   "cell_type": "code",
   "execution_count": 16,
   "metadata": {},
   "outputs": [],
   "source": [
    "layers = [\n",
    "    'resnet.0.2', 'resnet.1.0.0.act2', 'resnet.1.0.1.act2', 'resnet.1.0.2.act2', 'resnet.1.1.0.act2',\n",
    "    'resnet.1.1.1.act2', 'resnet.1.1.2.act2', 'resnet.1.2.0.act2', 'resnet.1.2.1.act2', 'resnet.1.2.2.act2'\n",
    "]\n"
   ]
  },
  {
   "cell_type": "code",
   "execution_count": 17,
   "metadata": {},
   "outputs": [
    {
     "name": "stdout",
     "output_type": "stream",
     "text": [
      "['resnet.0.2', 'resnet.1.0.0.act2', 'resnet.1.0.1.act2', 'resnet.1.0.2.act2', 'resnet.1.1.0.act2', 'resnet.1.1.1.act2', 'resnet.1.1.2.act2', 'resnet.1.2.0.act2', 'resnet.1.2.1.act2', 'resnet.1.2.2.act2']\n"
     ]
    }
   ],
   "source": [
    "print(layers)"
   ]
  },
  {
   "cell_type": "code",
   "execution_count": null,
   "metadata": {},
   "outputs": [],
   "source": []
  }
 ],
 "metadata": {
  "kernelspec": {
   "display_name": "Python 3.10.4 ('subspaces')",
   "language": "python",
   "name": "python3"
  },
  "language_info": {
   "codemirror_mode": {
    "name": "ipython",
    "version": 3
   },
   "file_extension": ".py",
   "mimetype": "text/x-python",
   "name": "python",
   "nbconvert_exporter": "python",
   "pygments_lexer": "ipython3",
   "version": "3.10.4"
  },
  "orig_nbformat": 4,
  "vscode": {
   "interpreter": {
    "hash": "ac019f01eb2a0970f066d5e193a84f30bb43215eeeface9d3d8db32241c79700"
   }
  }
 },
 "nbformat": 4,
 "nbformat_minor": 2
}
