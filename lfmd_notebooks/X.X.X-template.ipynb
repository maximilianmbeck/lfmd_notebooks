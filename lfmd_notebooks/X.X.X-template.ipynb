{
 "cells": [
  {
   "cell_type": "code",
   "execution_count": 1,
   "metadata": {},
   "outputs": [],
   "source": [
    "%load_ext autoreload\n",
    "%autoreload 2\n",
    "import torch\n",
    "import numpy as np\n",
    "import pandas as pd\n",
    "from omegaconf import OmegaConf\n",
    "from pathlib import Path\n",
    "from pprint import pprint\n",
    "# plotting\n",
    "import matplotlib.pyplot as plt\n",
    "import matplotlib as mpl\n",
    "import seaborn as sns\n",
    "# mycode\n",
    "from repo import REPO\n",
    "from ml_utilities.output_loader.result_loader import SweepResult, JobResult\n",
    "from ml_utilities.output_loader import create_job_output_loader\n",
    "from ml_utilities.output_loader.plot import plot_sweep_summary, plot_data_log_values"
   ]
  },
  {
   "attachments": {},
   "cell_type": "markdown",
   "metadata": {},
   "source": [
    "# X.X.X Template\n",
    "\n",
    "**RERUN X.X.X**: explain what changed in one sentence\n",
    "\n",
    "Explain the purpose of this experiment.\n",
    "\n",
    "Explain what is analyzed."
   ]
  },
  {
   "cell_type": "markdown",
   "metadata": {},
   "source": [
    "## A. Experiment config"
   ]
  },
  {
   "cell_type": "markdown",
   "metadata": {},
   "source": [
    "### Config file"
   ]
  },
  {
   "cell_type": "code",
   "execution_count": null,
   "metadata": {},
   "outputs": [],
   "source": [
    "config_yaml = \"\"\"\n",
    "run_config:\n",
    "  exec_type: parallel\n",
    "  hostname: dragonfly\n",
    "  gpu_ids: [0]\n",
    "  runs_per_gpu: 1\n",
    "  wandb:\n",
    "    init:\n",
    "      tags:\n",
    "      - ${config.experiment_data.experiment_tag}_exps\n",
    "      - run_handler\n",
    "      notes: null\n",
    "      group: ${config.experiment_data.experiment_tag}\n",
    "      job_type: run_handler\n",
    "\n",
    "seeds: [0]\n",
    "\n",
    "# sweep:\n",
    "#   type: grid\n",
    "#   axes: \n",
    "#   - parameter: data.dataset_transforms.enable_transforms\n",
    "#     vals: [True, False]\n",
    "    \n",
    "start_num: 0\n",
    "\n",
    "config:\n",
    "  experiment_data:\n",
    "    entity: jkuiml-fsl\n",
    "    project_name: tflearning\n",
    "    experiment_tag: '16.0'\n",
    "    experiment_type: startnum_${start_num}\n",
    "    experiment_name: cifar10-${config.experiment_data.experiment_tag}.${start_num}-resnet-repr\n",
    "    experiment_dir: null\n",
    "    experiment_notes: \n",
    "    job_name: null\n",
    "    seed: 0\n",
    "    hostname: null\n",
    "    gpu_id: 0\n",
    "  wandb:\n",
    "    init:\n",
    "      tags:\n",
    "      - ${config.experiment_data.experiment_tag}_exps\n",
    "      notes: ${config.experiment_data.experiment_notes}\n",
    "      group: ${config.experiment_data.experiment_tag}\n",
    "      job_type: ${config.experiment_data.experiment_type}\n",
    "    watch:\n",
    "      log: null\n",
    "      log_freq:\n",
    "\n",
    "  model:\n",
    "    model_cfg: resnet20-cifar10-B\n",
    "\n",
    "  trainer:\n",
    "    training_setup: supervised\n",
    "    n_steps: 64e3\n",
    "    log_train_step_every: 1\n",
    "    log_additional_logs: true\n",
    "    val_every: 500\n",
    "    save_every: 1000\n",
    "    early_stopping_patience: 64e3\n",
    "    batch_size: 128\n",
    "    optimizer_scheduler:\n",
    "      optimizer_name: SGD\n",
    "      optimizer_kwargs:\n",
    "        lr: 0.01 #0.1\n",
    "        momentum: 0.9\n",
    "        weight_decay: 0.0001\n",
    "      lr_scheduler_name: MultiStepLR\n",
    "      lr_scheduler_kwargs:\n",
    "        milestones: [32e3, 48e3]\n",
    "        gamma: 0.1\n",
    "    loss: crossentropy\n",
    "    metrics:\n",
    "    - Accuracy\n",
    "    num_workers: 4\n",
    "\n",
    "  data:\n",
    "    dataset: cifar10\n",
    "    dataset_kwargs:\n",
    "      data_root_path: /system/user/beck/pwbeck/data\n",
    "    dataset_split:\n",
    "      train_val_split: 0.9\n",
    "      # restrict_n_samples_train_task: 100\n",
    "    train_split_transforms:\n",
    "      image_transforms:\n",
    "      - RandomHorizontalFlip\n",
    "      - RandomCrop:\n",
    "          size: 32\n",
    "          padding: 4\n",
    "      tensor_transforms: \n",
    "      joint_tensor_transforms: \n",
    "      enable_transforms: True\n",
    "\"\"\"\n",
    "cfg = OmegaConf.create(config_yaml)"
   ]
  },
  {
   "cell_type": "code",
   "execution_count": null,
   "metadata": {},
   "outputs": [],
   "source": [
    "run_command = REPO.create_experiment(cfg, override=False)\n",
    "print(run_command)"
   ]
  },
  {
   "cell_type": "markdown",
   "metadata": {},
   "source": [
    "### Sweep result"
   ]
  },
  {
   "cell_type": "code",
   "execution_count": null,
   "metadata": {},
   "outputs": [],
   "source": [
    "sweepr = REPO.get_output_loader(cfg)\n",
    "print(sweepr)"
   ]
  },
  {
   "cell_type": "code",
   "execution_count": null,
   "metadata": {},
   "outputs": [],
   "source": [
    "# failed_jobs = sweepr.get_failed_jobs()\n",
    "# failed_jobs # No failed jobs"
   ]
  },
  {
   "attachments": {},
   "cell_type": "markdown",
   "metadata": {},
   "source": [
    "## B. Analysis 1"
   ]
  },
  {
   "cell_type": "code",
   "execution_count": null,
   "metadata": {},
   "outputs": [],
   "source": [
    "pprint(sweepr.available_log_columns)"
   ]
  },
  {
   "cell_type": "code",
   "execution_count": null,
   "metadata": {},
   "outputs": [],
   "source": [
    "sw_summary = sweepr.get_summary()"
   ]
  },
  {
   "cell_type": "code",
   "execution_count": null,
   "metadata": {},
   "outputs": [],
   "source": [
    "sw_summary"
   ]
  }
 ],
 "metadata": {
  "kernelspec": {
   "display_name": "Python 3.10.4 ('subspaces')",
   "language": "python",
   "name": "python3"
  },
  "language_info": {
   "codemirror_mode": {
    "name": "ipython",
    "version": 3
   },
   "file_extension": ".py",
   "mimetype": "text/x-python",
   "name": "python",
   "nbconvert_exporter": "python",
   "pygments_lexer": "ipython3",
   "version": "3.10.4 (main, Mar 31 2022, 08:41:55) [GCC 7.5.0]"
  },
  "orig_nbformat": 4,
  "vscode": {
   "interpreter": {
    "hash": "ac019f01eb2a0970f066d5e193a84f30bb43215eeeface9d3d8db32241c79700"
   }
  }
 },
 "nbformat": 4,
 "nbformat_minor": 2
}
